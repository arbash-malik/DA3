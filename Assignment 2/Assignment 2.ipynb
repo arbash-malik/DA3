{
 "cells": [
  {
   "cell_type": "markdown",
   "id": "e539a933",
   "metadata": {},
   "source": [
    "# Loading helper libraries "
   ]
  },
  {
   "cell_type": "code",
   "execution_count": 36,
   "id": "c3342118",
   "metadata": {},
   "outputs": [],
   "source": [
    "import warnings\n",
    "warnings.filterwarnings('ignore')\n",
    "\n",
    "import pandas as pd\n",
    "import numpy as np\n",
    "import os\n",
    "import sys\n",
    "import matplotlib.pyplot as plt\n",
    "import re\n",
    "import ast\n",
    "import patsy\n",
    "import datetime\n",
    "import math\n",
    "\n",
    "from pathlib import Path\n",
    "from patsy import dmatrices\n",
    "from sklearn.model_selection import train_test_split\n",
    "from sklearn.ensemble import RandomForestRegressor\n",
    "from sklearn.model_selection import GridSearchCV\n",
    "from sklearn.model_selection import RandomizedSearchCV\n",
    "from sklearn.impute import SimpleImputer\n",
    "from sklearn.linear_model import Lasso\n",
    "from sklearn.linear_model import LinearRegression\n",
    "from sklearn.tree import DecisionTreeRegressor\n",
    "from sklearn.model_selection import cross_val_score\n",
    "from sklearn.model_selection import RepeatedKFold\n",
    "from sklearn.preprocessing import StandardScaler\n",
    "from sklearn.inspection import permutation_importance\n",
    "from sklearn.inspection import PartialDependenceDisplay\n",
    "from sklearn.inspection import partial_dependence\n",
    "from sklearn.ensemble import HistGradientBoostingRegressor\n",
    "from sklearn.compose import ColumnTransformer\n",
    "from sklearn.pipeline import Pipeline\n",
    "from sklearn.ensemble import GradientBoostingRegressor\n",
    "from sklearn.preprocessing import OneHotEncoder\n",
    "from sklearn.metrics import mean_squared_error\n",
    "from plotnine import *\n",
    "from stargazer import stargazer\n",
    "from statsmodels.tools.eval_measures import mse,rmse\n",
    "from collections import defaultdict\n",
    "from sklearn.linear_model import Lasso\n",
    "from sklearn.model_selection import RepeatedKFold\n",
    "from sklearn.preprocessing import StandardScaler\n",
    "from sklearn.linear_model import ElasticNet\n",
    "from plotnine.data import mpg\n",
    "from mizani.formatters import percent_format\n",
    "\n"
   ]
  },
  {
   "cell_type": "code",
   "execution_count": 37,
   "id": "37b37391",
   "metadata": {},
   "outputs": [],
   "source": [
    "path = Path(os.getcwd())\n",
    "tech_prep = os.path.join(str(path), \"utils\")\n",
    "sys.path.append(tech_prep)\n",
    "from py_helper_functions import *"
   ]
  },
  {
   "cell_type": "markdown",
   "id": "de88e511",
   "metadata": {},
   "source": [
    "# Loading Dataset \n",
    "\n",
    "### 1. main_df is the main dataset for my city, Lisbon.\n",
    "### 2. amenities_cleaned_df is the dataset used for mapping amenities to my definitons"
   ]
  },
  {
   "cell_type": "code",
   "execution_count": 38,
   "id": "7193c350",
   "metadata": {},
   "outputs": [],
   "source": [
    "main_df = pd.read_csv('https://raw.githubusercontent.com/arbash-malik/DA3/main/Assignment%202/lisbon_listings.csv', delimiter=\",\",encoding=\"utf-8\")\n",
    "amenities_cleaned_df = pd.read_csv('https://raw.githubusercontent.com/arbash-malik/DA3/main/Assignment%202/unique_amenities_cleaned.csv', delimiter=\",\",encoding=\"utf-8\")\n"
   ]
  },
  {
   "cell_type": "code",
   "execution_count": 39,
   "id": "9954c7f6",
   "metadata": {
    "scrolled": false
   },
   "outputs": [
    {
     "name": "stdout",
     "output_type": "stream",
     "text": [
      "<class 'pandas.core.frame.DataFrame'>\n",
      "RangeIndex: 22605 entries, 0 to 22604\n",
      "Data columns (total 75 columns):\n",
      " #   Column                                        Non-Null Count  Dtype  \n",
      "---  ------                                        --------------  -----  \n",
      " 0   id                                            22605 non-null  int64  \n",
      " 1   listing_url                                   22605 non-null  object \n",
      " 2   scrape_id                                     22605 non-null  int64  \n",
      " 3   last_scraped                                  22605 non-null  object \n",
      " 4   source                                        22605 non-null  object \n",
      " 5   name                                          22605 non-null  object \n",
      " 6   description                                   22586 non-null  object \n",
      " 7   neighborhood_overview                         13429 non-null  object \n",
      " 8   picture_url                                   22605 non-null  object \n",
      " 9   host_id                                       22605 non-null  int64  \n",
      " 10  host_url                                      22605 non-null  object \n",
      " 11  host_name                                     22604 non-null  object \n",
      " 12  host_since                                    22604 non-null  object \n",
      " 13  host_location                                 16801 non-null  object \n",
      " 14  host_about                                    12921 non-null  object \n",
      " 15  host_response_time                            20299 non-null  object \n",
      " 16  host_response_rate                            20299 non-null  object \n",
      " 17  host_acceptance_rate                          20912 non-null  object \n",
      " 18  host_is_superhost                             21976 non-null  object \n",
      " 19  host_thumbnail_url                            22604 non-null  object \n",
      " 20  host_picture_url                              22604 non-null  object \n",
      " 21  host_neighbourhood                            9439 non-null   object \n",
      " 22  host_listings_count                           22604 non-null  float64\n",
      " 23  host_total_listings_count                     22604 non-null  float64\n",
      " 24  host_verifications                            22604 non-null  object \n",
      " 25  host_has_profile_pic                          22604 non-null  object \n",
      " 26  host_identity_verified                        22604 non-null  object \n",
      " 27  neighbourhood                                 13429 non-null  object \n",
      " 28  neighbourhood_cleansed                        22605 non-null  object \n",
      " 29  neighbourhood_group_cleansed                  22605 non-null  object \n",
      " 30  latitude                                      22605 non-null  float64\n",
      " 31  longitude                                     22605 non-null  float64\n",
      " 32  property_type                                 22605 non-null  object \n",
      " 33  room_type                                     22605 non-null  object \n",
      " 34  accommodates                                  22605 non-null  int64  \n",
      " 35  bathrooms                                     0 non-null      float64\n",
      " 36  bathrooms_text                                22580 non-null  object \n",
      " 37  bedrooms                                      17472 non-null  float64\n",
      " 38  beds                                          22425 non-null  float64\n",
      " 39  amenities                                     22605 non-null  object \n",
      " 40  price                                         22605 non-null  object \n",
      " 41  minimum_nights                                22605 non-null  int64  \n",
      " 42  maximum_nights                                22605 non-null  int64  \n",
      " 43  minimum_minimum_nights                        22605 non-null  int64  \n",
      " 44  maximum_minimum_nights                        22605 non-null  int64  \n",
      " 45  minimum_maximum_nights                        22605 non-null  int64  \n",
      " 46  maximum_maximum_nights                        22605 non-null  int64  \n",
      " 47  minimum_nights_avg_ntm                        22605 non-null  float64\n",
      " 48  maximum_nights_avg_ntm                        22605 non-null  float64\n",
      " 49  calendar_updated                              0 non-null      float64\n",
      " 50  has_availability                              22605 non-null  object \n",
      " 51  availability_30                               22605 non-null  int64  \n",
      " 52  availability_60                               22605 non-null  int64  \n",
      " 53  availability_90                               22605 non-null  int64  \n",
      " 54  availability_365                              22605 non-null  int64  \n",
      " 55  calendar_last_scraped                         22605 non-null  object \n",
      " 56  number_of_reviews                             22605 non-null  int64  \n",
      " 57  number_of_reviews_ltm                         22605 non-null  int64  \n",
      " 58  number_of_reviews_l30d                        22605 non-null  int64  \n",
      " 59  first_review                                  19919 non-null  object \n",
      " 60  last_review                                   19919 non-null  object \n",
      " 61  review_scores_rating                          19919 non-null  float64\n",
      " 62  review_scores_accuracy                        19887 non-null  float64\n",
      " 63  review_scores_cleanliness                     19887 non-null  float64\n",
      " 64  review_scores_checkin                         19887 non-null  float64\n",
      " 65  review_scores_communication                   19887 non-null  float64\n",
      " 66  review_scores_location                        19885 non-null  float64\n",
      " 67  review_scores_value                           19887 non-null  float64\n",
      " 68  license                                       21240 non-null  object \n",
      " 69  instant_bookable                              22605 non-null  object \n",
      " 70  calculated_host_listings_count                22605 non-null  int64  \n",
      " 71  calculated_host_listings_count_entire_homes   22605 non-null  int64  \n",
      " 72  calculated_host_listings_count_private_rooms  22605 non-null  int64  \n",
      " 73  calculated_host_listings_count_shared_rooms   22605 non-null  int64  \n",
      " 74  reviews_per_month                             19919 non-null  float64\n",
      "dtypes: float64(18), int64(21), object(36)\n",
      "memory usage: 12.9+ MB\n"
     ]
    }
   ],
   "source": [
    "main_df.info()"
   ]
  },
  {
   "cell_type": "markdown",
   "id": "941efbd7",
   "metadata": {},
   "source": [
    "#### Since our client  will be operating small and mid-size apartments hosting 2-6 guests. It makes sense to filter out listings that are a room or a shared unit and only keep the ones that a customer can book entirely"
   ]
  },
  {
   "cell_type": "code",
   "execution_count": 40,
   "id": "a3c9d5a5",
   "metadata": {
    "scrolled": true
   },
   "outputs": [],
   "source": [
    "main_df = main_df[main_df[\"property_type\"].str.contains(r'^Entire', regex=True)] # fitlering for entire property types\n",
    "main_df = main_df.loc[(main_df['accommodates'] >= 2) & (main_df['accommodates'] <= 6)] # fitlering for 2-6 accommodates"
   ]
  },
  {
   "cell_type": "code",
   "execution_count": 41,
   "id": "fa3ebaeb",
   "metadata": {},
   "outputs": [
    {
     "data": {
      "text/html": [
       "<div>\n",
       "<style scoped>\n",
       "    .dataframe tbody tr th:only-of-type {\n",
       "        vertical-align: middle;\n",
       "    }\n",
       "\n",
       "    .dataframe tbody tr th {\n",
       "        vertical-align: top;\n",
       "    }\n",
       "\n",
       "    .dataframe thead th {\n",
       "        text-align: right;\n",
       "    }\n",
       "</style>\n",
       "<table border=\"1\" class=\"dataframe\">\n",
       "  <thead>\n",
       "    <tr style=\"text-align: right;\">\n",
       "      <th></th>\n",
       "      <th>0</th>\n",
       "      <th>1</th>\n",
       "      <th>2</th>\n",
       "      <th>3</th>\n",
       "      <th>5</th>\n",
       "    </tr>\n",
       "  </thead>\n",
       "  <tbody>\n",
       "    <tr>\n",
       "      <th>id</th>\n",
       "      <td>6499</td>\n",
       "      <td>25659</td>\n",
       "      <td>119120</td>\n",
       "      <td>29248</td>\n",
       "      <td>29396</td>\n",
       "    </tr>\n",
       "    <tr>\n",
       "      <th>listing_url</th>\n",
       "      <td>https://www.airbnb.com/rooms/6499</td>\n",
       "      <td>https://www.airbnb.com/rooms/25659</td>\n",
       "      <td>https://www.airbnb.com/rooms/119120</td>\n",
       "      <td>https://www.airbnb.com/rooms/29248</td>\n",
       "      <td>https://www.airbnb.com/rooms/29396</td>\n",
       "    </tr>\n",
       "    <tr>\n",
       "      <th>scrape_id</th>\n",
       "      <td>20230911050651</td>\n",
       "      <td>20230911050651</td>\n",
       "      <td>20230911050651</td>\n",
       "      <td>20230911050651</td>\n",
       "      <td>20230911050651</td>\n",
       "    </tr>\n",
       "    <tr>\n",
       "      <th>last_scraped</th>\n",
       "      <td>2023-09-11</td>\n",
       "      <td>2023-09-12</td>\n",
       "      <td>2023-09-12</td>\n",
       "      <td>2023-09-12</td>\n",
       "      <td>2023-09-12</td>\n",
       "    </tr>\n",
       "    <tr>\n",
       "      <th>source</th>\n",
       "      <td>city scrape</td>\n",
       "      <td>city scrape</td>\n",
       "      <td>city scrape</td>\n",
       "      <td>city scrape</td>\n",
       "      <td>city scrape</td>\n",
       "    </tr>\n",
       "    <tr>\n",
       "      <th>...</th>\n",
       "      <td>...</td>\n",
       "      <td>...</td>\n",
       "      <td>...</td>\n",
       "      <td>...</td>\n",
       "      <td>...</td>\n",
       "    </tr>\n",
       "    <tr>\n",
       "      <th>calculated_host_listings_count</th>\n",
       "      <td>1</td>\n",
       "      <td>1</td>\n",
       "      <td>8</td>\n",
       "      <td>5</td>\n",
       "      <td>1</td>\n",
       "    </tr>\n",
       "    <tr>\n",
       "      <th>calculated_host_listings_count_entire_homes</th>\n",
       "      <td>1</td>\n",
       "      <td>1</td>\n",
       "      <td>8</td>\n",
       "      <td>5</td>\n",
       "      <td>1</td>\n",
       "    </tr>\n",
       "    <tr>\n",
       "      <th>calculated_host_listings_count_private_rooms</th>\n",
       "      <td>0</td>\n",
       "      <td>0</td>\n",
       "      <td>0</td>\n",
       "      <td>0</td>\n",
       "      <td>0</td>\n",
       "    </tr>\n",
       "    <tr>\n",
       "      <th>calculated_host_listings_count_shared_rooms</th>\n",
       "      <td>0</td>\n",
       "      <td>0</td>\n",
       "      <td>0</td>\n",
       "      <td>0</td>\n",
       "      <td>0</td>\n",
       "    </tr>\n",
       "    <tr>\n",
       "      <th>reviews_per_month</th>\n",
       "      <td>0.55</td>\n",
       "      <td>1.69</td>\n",
       "      <td>2.25</td>\n",
       "      <td>2.41</td>\n",
       "      <td>2.77</td>\n",
       "    </tr>\n",
       "  </tbody>\n",
       "</table>\n",
       "<p>75 rows × 5 columns</p>\n",
       "</div>"
      ],
      "text/plain": [
       "                                                                              0  \\\n",
       "id                                                                         6499   \n",
       "listing_url                                   https://www.airbnb.com/rooms/6499   \n",
       "scrape_id                                                        20230911050651   \n",
       "last_scraped                                                         2023-09-11   \n",
       "source                                                              city scrape   \n",
       "...                                                                         ...   \n",
       "calculated_host_listings_count                                                1   \n",
       "calculated_host_listings_count_entire_homes                                   1   \n",
       "calculated_host_listings_count_private_rooms                                  0   \n",
       "calculated_host_listings_count_shared_rooms                                   0   \n",
       "reviews_per_month                                                          0.55   \n",
       "\n",
       "                                                                               1  \\\n",
       "id                                                                         25659   \n",
       "listing_url                                   https://www.airbnb.com/rooms/25659   \n",
       "scrape_id                                                         20230911050651   \n",
       "last_scraped                                                          2023-09-12   \n",
       "source                                                               city scrape   \n",
       "...                                                                          ...   \n",
       "calculated_host_listings_count                                                 1   \n",
       "calculated_host_listings_count_entire_homes                                    1   \n",
       "calculated_host_listings_count_private_rooms                                   0   \n",
       "calculated_host_listings_count_shared_rooms                                    0   \n",
       "reviews_per_month                                                           1.69   \n",
       "\n",
       "                                                                                2  \\\n",
       "id                                                                         119120   \n",
       "listing_url                                   https://www.airbnb.com/rooms/119120   \n",
       "scrape_id                                                          20230911050651   \n",
       "last_scraped                                                           2023-09-12   \n",
       "source                                                                city scrape   \n",
       "...                                                                           ...   \n",
       "calculated_host_listings_count                                                  8   \n",
       "calculated_host_listings_count_entire_homes                                     8   \n",
       "calculated_host_listings_count_private_rooms                                    0   \n",
       "calculated_host_listings_count_shared_rooms                                     0   \n",
       "reviews_per_month                                                            2.25   \n",
       "\n",
       "                                                                               3  \\\n",
       "id                                                                         29248   \n",
       "listing_url                                   https://www.airbnb.com/rooms/29248   \n",
       "scrape_id                                                         20230911050651   \n",
       "last_scraped                                                          2023-09-12   \n",
       "source                                                               city scrape   \n",
       "...                                                                          ...   \n",
       "calculated_host_listings_count                                                 5   \n",
       "calculated_host_listings_count_entire_homes                                    5   \n",
       "calculated_host_listings_count_private_rooms                                   0   \n",
       "calculated_host_listings_count_shared_rooms                                    0   \n",
       "reviews_per_month                                                           2.41   \n",
       "\n",
       "                                                                               5  \n",
       "id                                                                         29396  \n",
       "listing_url                                   https://www.airbnb.com/rooms/29396  \n",
       "scrape_id                                                         20230911050651  \n",
       "last_scraped                                                          2023-09-12  \n",
       "source                                                               city scrape  \n",
       "...                                                                          ...  \n",
       "calculated_host_listings_count                                                 1  \n",
       "calculated_host_listings_count_entire_homes                                    1  \n",
       "calculated_host_listings_count_private_rooms                                   0  \n",
       "calculated_host_listings_count_shared_rooms                                    0  \n",
       "reviews_per_month                                                           2.77  \n",
       "\n",
       "[75 rows x 5 columns]"
      ]
     },
     "execution_count": 41,
     "metadata": {},
     "output_type": "execute_result"
    }
   ],
   "source": [
    "main_df.head().T"
   ]
  },
  {
   "cell_type": "markdown",
   "id": "05dbbefd",
   "metadata": {},
   "source": [
    "# Data Cleaning and Data Preparation\n",
    "1. cleaning `amenities` columns (grouping by category using amenities_cleaned_df) # this was done seperately as code was very long to include\n",
    "2. getting number of bathrooms from `bathroom_texts` "
   ]
  },
  {
   "cell_type": "code",
   "execution_count": 42,
   "id": "3f367569",
   "metadata": {},
   "outputs": [
    {
     "data": {
      "text/plain": [
       "'[\"Shampoo\", \"River view\", \"Dishes and silverware\", \"Dining table\", \"Stove\", \"Coffee maker\", \"Paid street parking off premises\", \"Kitchen\", \"Microwave\", \"Freezer\", \"Bed linens\", \"Paid parking on premises\", \"Laundromat nearby\", \"Oven\", \"Host greets you\", \"Carbon monoxide alarm\", \"Mini fridge\", \"Ethernet connection\", \"TV with standard cable\", \"First aid kit\", \"Hot water\", \"Extra pillows and blankets\", \"Cooking basics\", \"Wifi\", \"Essentials\", \"Cleaning products\", \"Fire extinguisher\", \"Free street parking\", \"Room-darkening shades\", \"Free washer \\\\u2013 In unit\", \"Long term stays allowed\"]'"
      ]
     },
     "execution_count": 42,
     "metadata": {},
     "output_type": "execute_result"
    }
   ],
   "source": [
    "main_df['amenities'][0] #exploring our amenities columns"
   ]
  },
  {
   "cell_type": "code",
   "execution_count": 43,
   "id": "bd87f6f4",
   "metadata": {},
   "outputs": [],
   "source": [
    "# cleaning the amenities column\n",
    "main_df[\"amenities\"] = main_df[\"amenities\"].astype(str).str.strip(\"[]\").str.replace('\"', \"\").str.split(\",\")"
   ]
  },
  {
   "cell_type": "code",
   "execution_count": 44,
   "id": "3af6d8c7",
   "metadata": {},
   "outputs": [],
   "source": [
    "# cleaning the amenities column\n",
    "old_value1 = '\\\\u2019n '\n",
    "old_value2 = '\\\\u2013 '\n",
    "old_value3 = '\\\\'\n",
    "new_value = ''\n",
    "\n",
    "\n",
    "main_df['amenities'] = main_df['amenities'].apply(lambda x: [item.replace(old_value1, new_value) for item in x])\n",
    "main_df['amenities'] = main_df['amenities'].apply(lambda x: [item.replace(old_value2, new_value) for item in x])\n",
    "main_df['amenities'] = main_df['amenities'].apply(lambda x: [item.replace(old_value3, new_value) for item in x])\n",
    "\n"
   ]
  },
  {
   "cell_type": "code",
   "execution_count": 45,
   "id": "3cfe6477",
   "metadata": {},
   "outputs": [
    {
     "name": "stdout",
     "output_type": "stream",
     "text": [
      "['', 'airconditioning', 'backyard', 'bbq', 'beachaccess', 'bodysoap', 'breakfast', 'cabletv', 'closet', 'coffeemaker', 'conditioner', 'dishwasher', 'dryer', 'elevator', 'essentials', 'fireextinguisher', 'firstaidkit', 'freeparking', 'gameconsole', 'gym', 'hairdryer', 'hangers', 'hottub', 'indoorfireplace', 'keypad', 'kidfriendly', 'kitchen', 'lockbox', 'luxuryamenities', 'others', 'outdooramenities', 'paidparking', 'petfriendly', 'pool', 'privateentrance', 'privatelivingroom', 'refrigerator', 'securitycameras', 'selfcheckin', 'shampoo', 'smokedetector', 'smokingallowed', 'soundsystem', 'tv', 'washer', 'wifi', 'windowview', 'workspace']\n"
     ]
    }
   ],
   "source": [
    "# replacing and mapping values as defined by me in the unique cleaned amenities dataset\n",
    "\n",
    "replacement_dict = dict(zip(amenities_cleaned_df['original'], amenities_cleaned_df['new']))\n",
    "\n",
    "main_df['amenities_cleaned'] = main_df['amenities'].apply(lambda x: [replacement_dict[val] if val in replacement_dict else val for val in x])\n",
    "\n",
    "print(sorted(main_df[\"amenities_cleaned\"].explode().unique()))"
   ]
  },
  {
   "cell_type": "code",
   "execution_count": 46,
   "id": "305c30d9",
   "metadata": {},
   "outputs": [],
   "source": [
    "# extracting bathrooms from bathroom text\n",
    "\n",
    "def extract_bathrooms(text):\n",
    "    match = re.match(r'^([\\d.]+)\\s*baths?', str(text))\n",
    "    if match:\n",
    "        return float(match.group(1))\n",
    "    else:\n",
    "        return 0\n",
    "\n",
    "main_df['n_bathrooms'] = main_df['bathrooms_text'].apply(extract_bathrooms)"
   ]
  },
  {
   "cell_type": "markdown",
   "id": "307b8086",
   "metadata": {},
   "source": [
    "#### Filtering out irrelevant columns and renaming the relevant ones for better information representing"
   ]
  },
  {
   "cell_type": "code",
   "execution_count": 47,
   "id": "62665d75",
   "metadata": {},
   "outputs": [],
   "source": [
    "columns_to_keep = ['property_type','room_type','price','accommodates', 'beds','bedrooms','n_bathrooms',\n",
    "                   'review_scores_rating', 'host_is_superhost','number_of_reviews', 'minimum_nights', 'maximum_nights', \n",
    "                   'reviews_per_month','neighbourhood_cleansed','neighbourhood_group_cleansed','instant_bookable','amenities_cleaned']\n",
    "\n",
    "filtered_df= main_df[columns_to_keep]\n",
    "\n",
    "column_renaming = {\n",
    "    'property_type':'f_property_type',\n",
    "    'room_type':'f_room_type',\n",
    "    'accommodates': 'n_accommodates',\n",
    "    'beds': 'n_beds',\n",
    "    'bedrooms':'n_bedrooms',\n",
    "    'minimum_nights': 'n_minimum_nights',\n",
    "    'maximum_nights': 'n_maximum_nights',\n",
    "    'instant_bookable': 'd_instant_bookable',\n",
    "    'host_is_superhost':'d_host_is_superhost',\n",
    "    'number_of_reviews': 'n_number_of_reviews',\n",
    "    'reviews_per_month': 'n_reviews_per_month',\n",
    "    'review_scores_rating': 'n_review_scores_rating',\n",
    "    'neighbourhood_cleansed': 'f_neighbourhood_cleansed',\n",
    "    'neighbourhood_group_cleansed': 'f_neighbourhood_group_cleansed',    \n",
    "}\n",
    "\n",
    "filtered_df.rename(columns=column_renaming, inplace=True)"
   ]
  },
  {
   "cell_type": "markdown",
   "id": "31b89844",
   "metadata": {},
   "source": [
    "#### Transforming variables and cleaning our dependant variable\n",
    "1. `property type` to category\n",
    "2. `room type` to category\n",
    "3. `neighbourhood cleansed` to category\n",
    "4. `instant bookable` to 1 0\n",
    "5. `host is super` host to 1 0\n",
    "6. `price` cleaning"
   ]
  },
  {
   "cell_type": "code",
   "execution_count": 48,
   "id": "bf5d32ee",
   "metadata": {},
   "outputs": [],
   "source": [
    "\n",
    "filtered_df[\"f_property_type\"] = filtered_df[\"f_property_type\"].astype(\"category\") # category column for modelling\n",
    "filtered_df[\"f_room_type\"] = filtered_df[\"f_room_type\"].astype(\"category\") # category column for modelling\n",
    "filtered_df[\"f_neighbourhood_cleansed\"] = filtered_df[\"f_neighbourhood_cleansed\"].astype(\"category\") # category column for modelling\n",
    "filtered_df[\"f_neighbourhood_group_cleansed\"] = filtered_df[\"f_neighbourhood_group_cleansed\"].astype(\"category\") # category column for modelling\n",
    "\n",
    "\n",
    "filtered_df['d_instant_bookable'] = np.where(filtered_df['d_instant_bookable'] == 't', '1', '0') .astype(int) # changing to 1 and 0\n",
    "filtered_df['d_host_is_superhost'] = np.where(filtered_df['d_host_is_superhost'] == 't', '1', '0') .astype(int) # changing to 1 and 0\n",
    "\n",
    "\n",
    "# cleaning price variable\n",
    "filtered_df['price'] = filtered_df['price'].replace({'\\$': '', ',': ''}, regex=True).astype(float)\n",
    "filtered_df = filtered_df.dropna(subset=['price'])\n",
    "filtered_df = filtered_df[filtered_df['price'] > 0]\n",
    "filtered_df['price'] = filtered_df['price'].astype(int) "
   ]
  },
  {
   "cell_type": "code",
   "execution_count": 49,
   "id": "27e8a802",
   "metadata": {},
   "outputs": [
    {
     "name": "stdout",
     "output_type": "stream",
     "text": [
      "Missing values for f_property_type: 0\n",
      "Missing values for f_room_type: 0\n",
      "Missing values for price: 0\n",
      "Missing values for n_accommodates: 0\n",
      "Missing values for n_beds: 54\n",
      "Missing values for n_bedrooms: 746\n",
      "Missing values for n_bathrooms: 0\n",
      "Missing values for n_review_scores_rating: 1251\n",
      "Missing values for d_host_is_superhost: 0\n",
      "Missing values for n_number_of_reviews: 0\n",
      "Missing values for n_minimum_nights: 0\n",
      "Missing values for n_maximum_nights: 0\n",
      "Missing values for n_reviews_per_month: 1251\n",
      "Missing values for f_neighbourhood_cleansed: 0\n",
      "Missing values for f_neighbourhood_group_cleansed: 0\n",
      "Missing values for d_instant_bookable: 0\n",
      "Missing values for amenities_cleaned: 0\n"
     ]
    }
   ],
   "source": [
    "# checking for missing values in columns\n",
    "for col in filtered_df.columns:\n",
    "    missing_values_col = filtered_df[col].isnull().sum()\n",
    "    print(f\"Missing values for {col}: {missing_values_col}\")"
   ]
  },
  {
   "cell_type": "code",
   "execution_count": 50,
   "id": "90e71948",
   "metadata": {},
   "outputs": [
    {
     "name": "stdout",
     "output_type": "stream",
     "text": [
      "Missing values for f_property_type: 0\n",
      "Missing values for f_room_type: 0\n",
      "Missing values for price: 0\n",
      "Missing values for n_accommodates: 0\n",
      "Missing values for n_beds: 0\n",
      "Missing values for n_bedrooms: 0\n",
      "Missing values for n_bathrooms: 0\n",
      "Missing values for n_review_scores_rating: 0\n",
      "Missing values for d_host_is_superhost: 0\n",
      "Missing values for n_number_of_reviews: 0\n",
      "Missing values for n_minimum_nights: 0\n",
      "Missing values for n_maximum_nights: 0\n",
      "Missing values for n_reviews_per_month: 0\n",
      "Missing values for f_neighbourhood_cleansed: 0\n",
      "Missing values for f_neighbourhood_group_cleansed: 0\n",
      "Missing values for d_instant_bookable: 0\n",
      "Missing values for amenities_cleaned: 0\n"
     ]
    }
   ],
   "source": [
    "# since missing values are low in number, I am dropping them instead of making flag columns or imputing them\n",
    "\n",
    "filtered_df.dropna(subset=['n_review_scores_rating','n_bedrooms','n_beds'], inplace=True)\n",
    "\n",
    "for col in filtered_df.columns:\n",
    "    missing_values_col = filtered_df[col].isnull().sum()\n",
    "    print(f\"Missing values for {col}: {missing_values_col}\")"
   ]
  },
  {
   "cell_type": "code",
   "execution_count": 51,
   "id": "7006d2d8",
   "metadata": {},
   "outputs": [],
   "source": [
    "# Creating amenities columns from each amenity for each listing\n",
    "unique_amenities = set()\n",
    "for amenities_list in filtered_df['amenities_cleaned']:\n",
    "    unique_amenities.update(amenities_list)\n",
    "\n",
    "for amenity in unique_amenities:\n",
    "    filtered_df['d_' + amenity] = filtered_df['amenities_cleaned'].apply(lambda x: 1 if amenity in x else 0)\n"
   ]
  },
  {
   "cell_type": "code",
   "execution_count": 52,
   "id": "fb8dd6a3",
   "metadata": {},
   "outputs": [],
   "source": [
    "# Extra check to ensure our dummy columns are integer columns\n",
    "\n",
    "dummy_cols = filtered_df.filter(regex='^d_').columns\n",
    "filtered_df[dummy_cols] = filtered_df[dummy_cols].fillna(0).astype(int)"
   ]
  },
  {
   "cell_type": "code",
   "execution_count": 53,
   "id": "f0be6ec4",
   "metadata": {},
   "outputs": [],
   "source": [
    "# Dropping irrelevant columns for a cleaner dataframe\n",
    "\n",
    "columns_to_drop = ['d_','amenities_cleaned']\n",
    "clean_df = filtered_df.drop(columns_to_drop, axis=1)"
   ]
  },
  {
   "cell_type": "code",
   "execution_count": 54,
   "id": "3fb0288b",
   "metadata": {
    "scrolled": false
   },
   "outputs": [
    {
     "name": "stdout",
     "output_type": "stream",
     "text": [
      "<class 'pandas.core.frame.DataFrame'>\n",
      "Index: 12356 entries, 0 to 22535\n",
      "Data columns (total 63 columns):\n",
      " #   Column                          Non-Null Count  Dtype   \n",
      "---  ------                          --------------  -----   \n",
      " 0   f_property_type                 12356 non-null  category\n",
      " 1   f_room_type                     12356 non-null  category\n",
      " 2   price                           12356 non-null  int32   \n",
      " 3   n_accommodates                  12356 non-null  int64   \n",
      " 4   n_beds                          12356 non-null  float64 \n",
      " 5   n_bedrooms                      12356 non-null  float64 \n",
      " 6   n_bathrooms                     12356 non-null  float64 \n",
      " 7   n_review_scores_rating          12356 non-null  float64 \n",
      " 8   d_host_is_superhost             12356 non-null  int32   \n",
      " 9   n_number_of_reviews             12356 non-null  int64   \n",
      " 10  n_minimum_nights                12356 non-null  int64   \n",
      " 11  n_maximum_nights                12356 non-null  int64   \n",
      " 12  n_reviews_per_month             12356 non-null  float64 \n",
      " 13  f_neighbourhood_cleansed        12356 non-null  category\n",
      " 14  f_neighbourhood_group_cleansed  12356 non-null  category\n",
      " 15  d_instant_bookable              12356 non-null  int32   \n",
      " 16  d_workspace                     12356 non-null  int32   \n",
      " 17  d_airconditioning               12356 non-null  int32   \n",
      " 18  d_selfcheckin                   12356 non-null  int32   \n",
      " 19  d_smokingallowed                12356 non-null  int32   \n",
      " 20  d_firstaidkit                   12356 non-null  int32   \n",
      " 21  d_luxuryamenities               12356 non-null  int32   \n",
      " 22  d_bbq                           12356 non-null  int32   \n",
      " 23  d_windowview                    12356 non-null  int32   \n",
      " 24  d_essentials                    12356 non-null  int32   \n",
      " 25  d_hangers                       12356 non-null  int32   \n",
      " 26  d_securitycameras               12356 non-null  int32   \n",
      " 27  d_privateentrance               12356 non-null  int32   \n",
      " 28  d_washer                        12356 non-null  int32   \n",
      " 29  d_fireextinguisher              12356 non-null  int32   \n",
      " 30  d_hottub                        12356 non-null  int32   \n",
      " 31  d_dishwasher                    12356 non-null  int32   \n",
      " 32  d_wifi                          12356 non-null  int32   \n",
      " 33  d_keypad                        12356 non-null  int32   \n",
      " 34  d_kidfriendly                   12356 non-null  int32   \n",
      " 35  d_shampoo                       12356 non-null  int32   \n",
      " 36  d_cabletv                       12356 non-null  int32   \n",
      " 37  d_paidparking                   12356 non-null  int32   \n",
      " 38  d_soundsystem                   12356 non-null  int32   \n",
      " 39  d_tv                            12356 non-null  int32   \n",
      " 40  d_privatelivingroom             12356 non-null  int32   \n",
      " 41  d_elevator                      12356 non-null  int32   \n",
      " 42  d_beachaccess                   12356 non-null  int32   \n",
      " 43  d_breakfast                     12356 non-null  int32   \n",
      " 44  d_others                        12356 non-null  int32   \n",
      " 45  d_bodysoap                      12356 non-null  int32   \n",
      " 46  d_pool                          12356 non-null  int32   \n",
      " 47  d_closet                        12356 non-null  int32   \n",
      " 48  d_smokedetector                 12356 non-null  int32   \n",
      " 49  d_petfriendly                   12356 non-null  int32   \n",
      " 50  d_indoorfireplace               12356 non-null  int32   \n",
      " 51  d_outdooramenities              12356 non-null  int32   \n",
      " 52  d_freeparking                   12356 non-null  int32   \n",
      " 53  d_kitchen                       12356 non-null  int32   \n",
      " 54  d_coffeemaker                   12356 non-null  int32   \n",
      " 55  d_hairdryer                     12356 non-null  int32   \n",
      " 56  d_refrigerator                  12356 non-null  int32   \n",
      " 57  d_lockbox                       12356 non-null  int32   \n",
      " 58  d_backyard                      12356 non-null  int32   \n",
      " 59  d_gym                           12356 non-null  int32   \n",
      " 60  d_gameconsole                   12356 non-null  int32   \n",
      " 61  d_conditioner                   12356 non-null  int32   \n",
      " 62  d_dryer                         12356 non-null  int32   \n",
      "dtypes: category(4), float64(5), int32(50), int64(4)\n",
      "memory usage: 3.4 MB\n"
     ]
    }
   ],
   "source": [
    "# Final dataframe for use\n",
    "clean_df.info()"
   ]
  },
  {
   "cell_type": "markdown",
   "id": "e58c5faa",
   "metadata": {},
   "source": [
    "#### Combining property types on my definition for better information"
   ]
  },
  {
   "cell_type": "code",
   "execution_count": 55,
   "id": "4fe9b71d",
   "metadata": {},
   "outputs": [],
   "source": [
    "clean_df['f_property_type'] = clean_df['f_property_type'].replace({'Entire rental unit': 'Apartment',\n",
    "'Entire home': 'Home',\n",
    "'Entire condo': 'Condo',\n",
    "'Entire serviced apartment': 'Apartment',\n",
    "'Entire loft': 'Loft',\n",
    "'Entire villa': 'Loft',\n",
    "'Entire townhouse': 'Home',\n",
    "'Entire cottage': 'Home',\n",
    "'Entire vacation home': 'Home',\n",
    "'Entire guesthouse': 'Home',\n",
    "'Entire guest suite': 'Apartment',\n",
    "'Entire cabin': 'Condo',\n",
    "'Entire place': 'Apartment',\n",
    "'Entire chalet': 'Home',\n",
    "'Entire bungalow':'Home',\n",
    "'Entire bed and breakfast': 'Home',\n",
    "'Entire hostel': 'Condo',\n",
    "'Entire home/apt': 'Home'})"
   ]
  },
  {
   "cell_type": "markdown",
   "id": "26c73fc2",
   "metadata": {},
   "source": [
    "# Exploratory Data Analysis (EDA)"
   ]
  },
  {
   "cell_type": "markdown",
   "id": "9dff00bb",
   "metadata": {},
   "source": [
    "#### Exploring our dependant variable and removing extreme values so my models are better"
   ]
  },
  {
   "cell_type": "code",
   "execution_count": 56,
   "id": "e76ca463",
   "metadata": {},
   "outputs": [
    {
     "data": {
      "text/plain": [
       "(12356, 63)"
      ]
     },
     "execution_count": 56,
     "metadata": {},
     "output_type": "execute_result"
    }
   ],
   "source": [
    "clean_df.shape"
   ]
  },
  {
   "cell_type": "code",
   "execution_count": 57,
   "id": "b06dc997",
   "metadata": {
    "scrolled": true
   },
   "outputs": [
    {
     "data": {
      "text/plain": [
       "count    12356.000000\n",
       "mean       148.132001\n",
       "std        683.564224\n",
       "min         10.000000\n",
       "50%        120.000000\n",
       "85%        195.000000\n",
       "90%        222.000000\n",
       "95%        276.000000\n",
       "96%        295.000000\n",
       "97%        316.350000\n",
       "98%        357.000000\n",
       "99%        446.000000\n",
       "max      74110.000000\n",
       "Name: price, dtype: float64"
      ]
     },
     "execution_count": 57,
     "metadata": {},
     "output_type": "execute_result"
    }
   ],
   "source": [
    "clean_df['price'].describe(percentiles = [0.85,0.9,0.95,0.96,0.97,0.98,0.99])"
   ]
  },
  {
   "cell_type": "code",
   "execution_count": 58,
   "id": "fab19765",
   "metadata": {},
   "outputs": [],
   "source": [
    "# dropping values over 276 (95% percentile) ~ 700 values\n",
    "clean_df = clean_df.loc[clean_df['price'] <= 276]"
   ]
  },
  {
   "cell_type": "code",
   "execution_count": 59,
   "id": "9547563f",
   "metadata": {},
   "outputs": [
    {
     "data": {
      "text/plain": [
       "(11743, 63)"
      ]
     },
     "execution_count": 59,
     "metadata": {},
     "output_type": "execute_result"
    }
   ],
   "source": [
    "clean_df.shape"
   ]
  },
  {
   "cell_type": "code",
   "execution_count": 60,
   "id": "2fc23ba7",
   "metadata": {},
   "outputs": [
    {
     "data": {
      "text/plain": [
       "count    11743.000000\n",
       "mean       125.865792\n",
       "std         48.962625\n",
       "min         10.000000\n",
       "50%        118.000000\n",
       "85%        179.000000\n",
       "90%        198.000000\n",
       "95%        225.000000\n",
       "96%        233.000000\n",
       "97%        241.000000\n",
       "98%        250.000000\n",
       "99%        260.000000\n",
       "max        276.000000\n",
       "Name: price, dtype: float64"
      ]
     },
     "execution_count": 60,
     "metadata": {},
     "output_type": "execute_result"
    }
   ],
   "source": [
    "clean_df['price'].describe(percentiles = [0.85,0.9,0.95,0.96,0.97,0.98,0.99])"
   ]
  },
  {
   "cell_type": "code",
   "execution_count": 61,
   "id": "9f8481f1",
   "metadata": {},
   "outputs": [
    {
     "data": {
      "image/png": "[encoded data removed]",
      "text/plain": [
       "<Figure size 800x600 with 1 Axes>"
      ]
     },
     "metadata": {
      "image/png": {
       "height": 600,
       "width": 800
      },
      "needs_background": "light"
     },
     "output_type": "display_data"
    },
    {
     "name": "stdout",
     "output_type": "stream",
     "text": [
      "\n"
     ]
    }
   ],
   "source": [
    "plot = ggplot(clean_df, aes(x='price', y=\"stat(count)/sum(stat(count))\")) + \\\n",
    "       geom_histogram(binwidth=12, fill='#008080', color='white') + \\\n",
    "       labs(title=\"Distribution of Price\", x=\"Price\", y=\"Percentage\") + \\\n",
    "       theme_minimal() + \\\n",
    "       theme(panel_grid_major=element_blank(), panel_grid_minor=element_blank(), \n",
    "             plot_title=element_text(size=20), axis_text=element_text(size=12), axis_title=element_text(size=14), \n",
    "             figure_size=(8, 6)) + \\\n",
    "       scale_y_continuous(labels=percent_format())\n",
    "\n",
    "print(plot)"
   ]
  },
  {
   "cell_type": "code",
   "execution_count": 62,
   "id": "c22daf8c",
   "metadata": {},
   "outputs": [
    {
     "data": {
      "text/plain": [
       "f_property_type\n",
       "Apartment    9751\n",
       "Home         1095\n",
       "Condo         608\n",
       "Loft          289\n",
       "Name: count, dtype: int64"
      ]
     },
     "execution_count": 62,
     "metadata": {},
     "output_type": "execute_result"
    }
   ],
   "source": [
    "clean_df['f_property_type'].value_counts()"
   ]
  },
  {
   "cell_type": "code",
   "execution_count": 63,
   "id": "e9a1a10f",
   "metadata": {},
   "outputs": [
    {
     "data": {
      "text/plain": [
       "n_accommodates\n",
       "4    4966\n",
       "2    2615\n",
       "6    1929\n",
       "3    1222\n",
       "5    1011\n",
       "Name: count, dtype: int64"
      ]
     },
     "execution_count": 63,
     "metadata": {},
     "output_type": "execute_result"
    }
   ],
   "source": [
    "clean_df['n_accommodates'].value_counts()"
   ]
  },
  {
   "cell_type": "code",
   "execution_count": 64,
   "id": "dc5c2075",
   "metadata": {},
   "outputs": [
    {
     "data": {
      "text/plain": [
       "f_neighbourhood_group_cleansed\n",
       "Lisboa                   8537\n",
       "Cascais                  1058\n",
       "Mafra                     683\n",
       "Sintra                    627\n",
       "Oeiras                    227\n",
       "Lourinh                   189\n",
       "Torres Vedras             145\n",
       "Amadora                    87\n",
       "Loures                     85\n",
       "Odivelas                   39\n",
       "Alenquer                   21\n",
       "Vila Franca De Xira        15\n",
       "Cadaval                    14\n",
       "Sobral De Monte Agrao       9\n",
       "Arruda Dos Vinhos           4\n",
       "Azambuja                    3\n",
       "Name: count, dtype: int64"
      ]
     },
     "execution_count": 64,
     "metadata": {},
     "output_type": "execute_result"
    }
   ],
   "source": [
    "clean_df['f_neighbourhood_group_cleansed'].value_counts()"
   ]
  },
  {
   "cell_type": "code",
   "execution_count": 65,
   "id": "aef9313b",
   "metadata": {},
   "outputs": [
    {
     "data": {
      "text/html": [
       "<div>\n",
       "<style scoped>\n",
       "    .dataframe tbody tr th:only-of-type {\n",
       "        vertical-align: middle;\n",
       "    }\n",
       "\n",
       "    .dataframe tbody tr th {\n",
       "        vertical-align: top;\n",
       "    }\n",
       "\n",
       "    .dataframe thead th {\n",
       "        text-align: right;\n",
       "    }\n",
       "</style>\n",
       "<table border=\"1\" class=\"dataframe\">\n",
       "  <thead>\n",
       "    <tr style=\"text-align: right;\">\n",
       "      <th></th>\n",
       "      <th>count</th>\n",
       "      <th>mean</th>\n",
       "      <th>std</th>\n",
       "      <th>min</th>\n",
       "      <th>25%</th>\n",
       "      <th>50%</th>\n",
       "      <th>75%</th>\n",
       "      <th>max</th>\n",
       "    </tr>\n",
       "  </thead>\n",
       "  <tbody>\n",
       "    <tr>\n",
       "      <th>price</th>\n",
       "      <td>11743.0</td>\n",
       "      <td>125.87</td>\n",
       "      <td>48.96</td>\n",
       "      <td>10.00</td>\n",
       "      <td>90.00</td>\n",
       "      <td>118.00</td>\n",
       "      <td>153.00</td>\n",
       "      <td>276.00</td>\n",
       "    </tr>\n",
       "    <tr>\n",
       "      <th>n_accommodates</th>\n",
       "      <td>11743.0</td>\n",
       "      <td>3.87</td>\n",
       "      <td>1.31</td>\n",
       "      <td>2.00</td>\n",
       "      <td>3.00</td>\n",
       "      <td>4.00</td>\n",
       "      <td>5.00</td>\n",
       "      <td>6.00</td>\n",
       "    </tr>\n",
       "    <tr>\n",
       "      <th>n_beds</th>\n",
       "      <td>11743.0</td>\n",
       "      <td>2.31</td>\n",
       "      <td>1.12</td>\n",
       "      <td>1.00</td>\n",
       "      <td>1.00</td>\n",
       "      <td>2.00</td>\n",
       "      <td>3.00</td>\n",
       "      <td>11.00</td>\n",
       "    </tr>\n",
       "    <tr>\n",
       "      <th>n_bedrooms</th>\n",
       "      <td>11743.0</td>\n",
       "      <td>1.61</td>\n",
       "      <td>0.69</td>\n",
       "      <td>1.00</td>\n",
       "      <td>1.00</td>\n",
       "      <td>2.00</td>\n",
       "      <td>2.00</td>\n",
       "      <td>6.00</td>\n",
       "    </tr>\n",
       "    <tr>\n",
       "      <th>n_bathrooms</th>\n",
       "      <td>11743.0</td>\n",
       "      <td>1.24</td>\n",
       "      <td>0.47</td>\n",
       "      <td>0.00</td>\n",
       "      <td>1.00</td>\n",
       "      <td>1.00</td>\n",
       "      <td>1.00</td>\n",
       "      <td>4.50</td>\n",
       "    </tr>\n",
       "    <tr>\n",
       "      <th>n_review_scores_rating</th>\n",
       "      <td>11743.0</td>\n",
       "      <td>4.65</td>\n",
       "      <td>0.41</td>\n",
       "      <td>0.00</td>\n",
       "      <td>4.55</td>\n",
       "      <td>4.75</td>\n",
       "      <td>4.89</td>\n",
       "      <td>5.00</td>\n",
       "    </tr>\n",
       "    <tr>\n",
       "      <th>d_host_is_superhost</th>\n",
       "      <td>11743.0</td>\n",
       "      <td>0.32</td>\n",
       "      <td>0.46</td>\n",
       "      <td>0.00</td>\n",
       "      <td>0.00</td>\n",
       "      <td>0.00</td>\n",
       "      <td>1.00</td>\n",
       "      <td>1.00</td>\n",
       "    </tr>\n",
       "    <tr>\n",
       "      <th>n_number_of_reviews</th>\n",
       "      <td>11743.0</td>\n",
       "      <td>78.18</td>\n",
       "      <td>98.05</td>\n",
       "      <td>1.00</td>\n",
       "      <td>12.00</td>\n",
       "      <td>39.00</td>\n",
       "      <td>107.00</td>\n",
       "      <td>1002.00</td>\n",
       "    </tr>\n",
       "    <tr>\n",
       "      <th>n_minimum_nights</th>\n",
       "      <td>11743.0</td>\n",
       "      <td>3.88</td>\n",
       "      <td>16.13</td>\n",
       "      <td>1.00</td>\n",
       "      <td>2.00</td>\n",
       "      <td>2.00</td>\n",
       "      <td>3.00</td>\n",
       "      <td>1000.00</td>\n",
       "    </tr>\n",
       "    <tr>\n",
       "      <th>n_maximum_nights</th>\n",
       "      <td>11743.0</td>\n",
       "      <td>590.12</td>\n",
       "      <td>586.57</td>\n",
       "      <td>2.00</td>\n",
       "      <td>62.00</td>\n",
       "      <td>365.00</td>\n",
       "      <td>1125.00</td>\n",
       "      <td>36180.00</td>\n",
       "    </tr>\n",
       "    <tr>\n",
       "      <th>n_reviews_per_month</th>\n",
       "      <td>11743.0</td>\n",
       "      <td>1.67</td>\n",
       "      <td>1.41</td>\n",
       "      <td>0.01</td>\n",
       "      <td>0.57</td>\n",
       "      <td>1.33</td>\n",
       "      <td>2.42</td>\n",
       "      <td>16.14</td>\n",
       "    </tr>\n",
       "    <tr>\n",
       "      <th>d_instant_bookable</th>\n",
       "      <td>11743.0</td>\n",
       "      <td>0.58</td>\n",
       "      <td>0.49</td>\n",
       "      <td>0.00</td>\n",
       "      <td>0.00</td>\n",
       "      <td>1.00</td>\n",
       "      <td>1.00</td>\n",
       "      <td>1.00</td>\n",
       "    </tr>\n",
       "    <tr>\n",
       "      <th>d_workspace</th>\n",
       "      <td>11743.0</td>\n",
       "      <td>0.34</td>\n",
       "      <td>0.47</td>\n",
       "      <td>0.00</td>\n",
       "      <td>0.00</td>\n",
       "      <td>0.00</td>\n",
       "      <td>1.00</td>\n",
       "      <td>1.00</td>\n",
       "    </tr>\n",
       "    <tr>\n",
       "      <th>d_airconditioning</th>\n",
       "      <td>11743.0</td>\n",
       "      <td>0.69</td>\n",
       "      <td>0.46</td>\n",
       "      <td>0.00</td>\n",
       "      <td>0.00</td>\n",
       "      <td>1.00</td>\n",
       "      <td>1.00</td>\n",
       "      <td>1.00</td>\n",
       "    </tr>\n",
       "    <tr>\n",
       "      <th>d_selfcheckin</th>\n",
       "      <td>11743.0</td>\n",
       "      <td>0.35</td>\n",
       "      <td>0.48</td>\n",
       "      <td>0.00</td>\n",
       "      <td>0.00</td>\n",
       "      <td>0.00</td>\n",
       "      <td>1.00</td>\n",
       "      <td>1.00</td>\n",
       "    </tr>\n",
       "    <tr>\n",
       "      <th>d_smokingallowed</th>\n",
       "      <td>11743.0</td>\n",
       "      <td>0.07</td>\n",
       "      <td>0.26</td>\n",
       "      <td>0.00</td>\n",
       "      <td>0.00</td>\n",
       "      <td>0.00</td>\n",
       "      <td>0.00</td>\n",
       "      <td>1.00</td>\n",
       "    </tr>\n",
       "    <tr>\n",
       "      <th>d_firstaidkit</th>\n",
       "      <td>11743.0</td>\n",
       "      <td>0.78</td>\n",
       "      <td>0.41</td>\n",
       "      <td>0.00</td>\n",
       "      <td>1.00</td>\n",
       "      <td>1.00</td>\n",
       "      <td>1.00</td>\n",
       "      <td>1.00</td>\n",
       "    </tr>\n",
       "    <tr>\n",
       "      <th>d_luxuryamenities</th>\n",
       "      <td>11743.0</td>\n",
       "      <td>0.54</td>\n",
       "      <td>0.50</td>\n",
       "      <td>0.00</td>\n",
       "      <td>0.00</td>\n",
       "      <td>1.00</td>\n",
       "      <td>1.00</td>\n",
       "      <td>1.00</td>\n",
       "    </tr>\n",
       "    <tr>\n",
       "      <th>d_bbq</th>\n",
       "      <td>11743.0</td>\n",
       "      <td>0.09</td>\n",
       "      <td>0.29</td>\n",
       "      <td>0.00</td>\n",
       "      <td>0.00</td>\n",
       "      <td>0.00</td>\n",
       "      <td>0.00</td>\n",
       "      <td>1.00</td>\n",
       "    </tr>\n",
       "    <tr>\n",
       "      <th>d_windowview</th>\n",
       "      <td>11743.0</td>\n",
       "      <td>0.25</td>\n",
       "      <td>0.44</td>\n",
       "      <td>0.00</td>\n",
       "      <td>0.00</td>\n",
       "      <td>0.00</td>\n",
       "      <td>1.00</td>\n",
       "      <td>1.00</td>\n",
       "    </tr>\n",
       "    <tr>\n",
       "      <th>d_essentials</th>\n",
       "      <td>11743.0</td>\n",
       "      <td>0.97</td>\n",
       "      <td>0.17</td>\n",
       "      <td>0.00</td>\n",
       "      <td>1.00</td>\n",
       "      <td>1.00</td>\n",
       "      <td>1.00</td>\n",
       "      <td>1.00</td>\n",
       "    </tr>\n",
       "    <tr>\n",
       "      <th>d_hangers</th>\n",
       "      <td>11743.0</td>\n",
       "      <td>0.84</td>\n",
       "      <td>0.37</td>\n",
       "      <td>0.00</td>\n",
       "      <td>1.00</td>\n",
       "      <td>1.00</td>\n",
       "      <td>1.00</td>\n",
       "      <td>1.00</td>\n",
       "    </tr>\n",
       "    <tr>\n",
       "      <th>d_securitycameras</th>\n",
       "      <td>11743.0</td>\n",
       "      <td>0.05</td>\n",
       "      <td>0.22</td>\n",
       "      <td>0.00</td>\n",
       "      <td>0.00</td>\n",
       "      <td>0.00</td>\n",
       "      <td>0.00</td>\n",
       "      <td>1.00</td>\n",
       "    </tr>\n",
       "    <tr>\n",
       "      <th>d_privateentrance</th>\n",
       "      <td>11743.0</td>\n",
       "      <td>0.28</td>\n",
       "      <td>0.45</td>\n",
       "      <td>0.00</td>\n",
       "      <td>0.00</td>\n",
       "      <td>0.00</td>\n",
       "      <td>1.00</td>\n",
       "      <td>1.00</td>\n",
       "    </tr>\n",
       "    <tr>\n",
       "      <th>d_washer</th>\n",
       "      <td>11743.0</td>\n",
       "      <td>0.77</td>\n",
       "      <td>0.42</td>\n",
       "      <td>0.00</td>\n",
       "      <td>1.00</td>\n",
       "      <td>1.00</td>\n",
       "      <td>1.00</td>\n",
       "      <td>1.00</td>\n",
       "    </tr>\n",
       "    <tr>\n",
       "      <th>d_fireextinguisher</th>\n",
       "      <td>11743.0</td>\n",
       "      <td>0.78</td>\n",
       "      <td>0.41</td>\n",
       "      <td>0.00</td>\n",
       "      <td>1.00</td>\n",
       "      <td>1.00</td>\n",
       "      <td>1.00</td>\n",
       "      <td>1.00</td>\n",
       "    </tr>\n",
       "    <tr>\n",
       "      <th>d_hottub</th>\n",
       "      <td>11743.0</td>\n",
       "      <td>0.01</td>\n",
       "      <td>0.11</td>\n",
       "      <td>0.00</td>\n",
       "      <td>0.00</td>\n",
       "      <td>0.00</td>\n",
       "      <td>0.00</td>\n",
       "      <td>1.00</td>\n",
       "    </tr>\n",
       "    <tr>\n",
       "      <th>d_dishwasher</th>\n",
       "      <td>11743.0</td>\n",
       "      <td>0.48</td>\n",
       "      <td>0.50</td>\n",
       "      <td>0.00</td>\n",
       "      <td>0.00</td>\n",
       "      <td>0.00</td>\n",
       "      <td>1.00</td>\n",
       "      <td>1.00</td>\n",
       "    </tr>\n",
       "    <tr>\n",
       "      <th>d_wifi</th>\n",
       "      <td>11743.0</td>\n",
       "      <td>0.99</td>\n",
       "      <td>0.10</td>\n",
       "      <td>0.00</td>\n",
       "      <td>1.00</td>\n",
       "      <td>1.00</td>\n",
       "      <td>1.00</td>\n",
       "      <td>1.00</td>\n",
       "    </tr>\n",
       "    <tr>\n",
       "      <th>d_keypad</th>\n",
       "      <td>11743.0</td>\n",
       "      <td>0.06</td>\n",
       "      <td>0.25</td>\n",
       "      <td>0.00</td>\n",
       "      <td>0.00</td>\n",
       "      <td>0.00</td>\n",
       "      <td>0.00</td>\n",
       "      <td>1.00</td>\n",
       "    </tr>\n",
       "    <tr>\n",
       "      <th>d_kidfriendly</th>\n",
       "      <td>11743.0</td>\n",
       "      <td>0.52</td>\n",
       "      <td>0.50</td>\n",
       "      <td>0.00</td>\n",
       "      <td>0.00</td>\n",
       "      <td>1.00</td>\n",
       "      <td>1.00</td>\n",
       "      <td>1.00</td>\n",
       "    </tr>\n",
       "    <tr>\n",
       "      <th>d_shampoo</th>\n",
       "      <td>11743.0</td>\n",
       "      <td>0.59</td>\n",
       "      <td>0.49</td>\n",
       "      <td>0.00</td>\n",
       "      <td>0.00</td>\n",
       "      <td>1.00</td>\n",
       "      <td>1.00</td>\n",
       "      <td>1.00</td>\n",
       "    </tr>\n",
       "    <tr>\n",
       "      <th>d_cabletv</th>\n",
       "      <td>11743.0</td>\n",
       "      <td>0.48</td>\n",
       "      <td>0.50</td>\n",
       "      <td>0.00</td>\n",
       "      <td>0.00</td>\n",
       "      <td>0.00</td>\n",
       "      <td>1.00</td>\n",
       "      <td>1.00</td>\n",
       "    </tr>\n",
       "    <tr>\n",
       "      <th>d_paidparking</th>\n",
       "      <td>11743.0</td>\n",
       "      <td>0.35</td>\n",
       "      <td>0.48</td>\n",
       "      <td>0.00</td>\n",
       "      <td>0.00</td>\n",
       "      <td>0.00</td>\n",
       "      <td>1.00</td>\n",
       "      <td>1.00</td>\n",
       "    </tr>\n",
       "    <tr>\n",
       "      <th>d_soundsystem</th>\n",
       "      <td>11743.0</td>\n",
       "      <td>0.04</td>\n",
       "      <td>0.21</td>\n",
       "      <td>0.00</td>\n",
       "      <td>0.00</td>\n",
       "      <td>0.00</td>\n",
       "      <td>0.00</td>\n",
       "      <td>1.00</td>\n",
       "    </tr>\n",
       "    <tr>\n",
       "      <th>d_tv</th>\n",
       "      <td>11743.0</td>\n",
       "      <td>0.48</td>\n",
       "      <td>0.50</td>\n",
       "      <td>0.00</td>\n",
       "      <td>0.00</td>\n",
       "      <td>0.00</td>\n",
       "      <td>1.00</td>\n",
       "      <td>1.00</td>\n",
       "    </tr>\n",
       "    <tr>\n",
       "      <th>d_privatelivingroom</th>\n",
       "      <td>11743.0</td>\n",
       "      <td>0.37</td>\n",
       "      <td>0.48</td>\n",
       "      <td>0.00</td>\n",
       "      <td>0.00</td>\n",
       "      <td>0.00</td>\n",
       "      <td>1.00</td>\n",
       "      <td>1.00</td>\n",
       "    </tr>\n",
       "    <tr>\n",
       "      <th>d_elevator</th>\n",
       "      <td>11743.0</td>\n",
       "      <td>0.22</td>\n",
       "      <td>0.42</td>\n",
       "      <td>0.00</td>\n",
       "      <td>0.00</td>\n",
       "      <td>0.00</td>\n",
       "      <td>0.00</td>\n",
       "      <td>1.00</td>\n",
       "    </tr>\n",
       "    <tr>\n",
       "      <th>d_beachaccess</th>\n",
       "      <td>11743.0</td>\n",
       "      <td>0.15</td>\n",
       "      <td>0.35</td>\n",
       "      <td>0.00</td>\n",
       "      <td>0.00</td>\n",
       "      <td>0.00</td>\n",
       "      <td>0.00</td>\n",
       "      <td>1.00</td>\n",
       "    </tr>\n",
       "    <tr>\n",
       "      <th>d_breakfast</th>\n",
       "      <td>11743.0</td>\n",
       "      <td>0.01</td>\n",
       "      <td>0.08</td>\n",
       "      <td>0.00</td>\n",
       "      <td>0.00</td>\n",
       "      <td>0.00</td>\n",
       "      <td>0.00</td>\n",
       "      <td>1.00</td>\n",
       "    </tr>\n",
       "    <tr>\n",
       "      <th>d_others</th>\n",
       "      <td>11743.0</td>\n",
       "      <td>0.87</td>\n",
       "      <td>0.34</td>\n",
       "      <td>0.00</td>\n",
       "      <td>1.00</td>\n",
       "      <td>1.00</td>\n",
       "      <td>1.00</td>\n",
       "      <td>1.00</td>\n",
       "    </tr>\n",
       "    <tr>\n",
       "      <th>d_bodysoap</th>\n",
       "      <td>11743.0</td>\n",
       "      <td>0.43</td>\n",
       "      <td>0.49</td>\n",
       "      <td>0.00</td>\n",
       "      <td>0.00</td>\n",
       "      <td>0.00</td>\n",
       "      <td>1.00</td>\n",
       "      <td>1.00</td>\n",
       "    </tr>\n",
       "    <tr>\n",
       "      <th>d_pool</th>\n",
       "      <td>11743.0</td>\n",
       "      <td>0.07</td>\n",
       "      <td>0.25</td>\n",
       "      <td>0.00</td>\n",
       "      <td>0.00</td>\n",
       "      <td>0.00</td>\n",
       "      <td>0.00</td>\n",
       "      <td>1.00</td>\n",
       "    </tr>\n",
       "    <tr>\n",
       "      <th>d_closet</th>\n",
       "      <td>11743.0</td>\n",
       "      <td>0.43</td>\n",
       "      <td>0.49</td>\n",
       "      <td>0.00</td>\n",
       "      <td>0.00</td>\n",
       "      <td>0.00</td>\n",
       "      <td>1.00</td>\n",
       "      <td>1.00</td>\n",
       "    </tr>\n",
       "    <tr>\n",
       "      <th>d_smokedetector</th>\n",
       "      <td>11743.0</td>\n",
       "      <td>0.36</td>\n",
       "      <td>0.48</td>\n",
       "      <td>0.00</td>\n",
       "      <td>0.00</td>\n",
       "      <td>0.00</td>\n",
       "      <td>1.00</td>\n",
       "      <td>1.00</td>\n",
       "    </tr>\n",
       "    <tr>\n",
       "      <th>d_petfriendly</th>\n",
       "      <td>11743.0</td>\n",
       "      <td>0.14</td>\n",
       "      <td>0.35</td>\n",
       "      <td>0.00</td>\n",
       "      <td>0.00</td>\n",
       "      <td>0.00</td>\n",
       "      <td>0.00</td>\n",
       "      <td>1.00</td>\n",
       "    </tr>\n",
       "    <tr>\n",
       "      <th>d_indoorfireplace</th>\n",
       "      <td>11743.0</td>\n",
       "      <td>0.07</td>\n",
       "      <td>0.26</td>\n",
       "      <td>0.00</td>\n",
       "      <td>0.00</td>\n",
       "      <td>0.00</td>\n",
       "      <td>0.00</td>\n",
       "      <td>1.00</td>\n",
       "    </tr>\n",
       "    <tr>\n",
       "      <th>d_outdooramenities</th>\n",
       "      <td>11743.0</td>\n",
       "      <td>0.46</td>\n",
       "      <td>0.50</td>\n",
       "      <td>0.00</td>\n",
       "      <td>0.00</td>\n",
       "      <td>0.00</td>\n",
       "      <td>1.00</td>\n",
       "      <td>1.00</td>\n",
       "    </tr>\n",
       "    <tr>\n",
       "      <th>d_freeparking</th>\n",
       "      <td>11743.0</td>\n",
       "      <td>0.35</td>\n",
       "      <td>0.48</td>\n",
       "      <td>0.00</td>\n",
       "      <td>0.00</td>\n",
       "      <td>0.00</td>\n",
       "      <td>1.00</td>\n",
       "      <td>1.00</td>\n",
       "    </tr>\n",
       "    <tr>\n",
       "      <th>d_kitchen</th>\n",
       "      <td>11743.0</td>\n",
       "      <td>0.99</td>\n",
       "      <td>0.08</td>\n",
       "      <td>0.00</td>\n",
       "      <td>1.00</td>\n",
       "      <td>1.00</td>\n",
       "      <td>1.00</td>\n",
       "      <td>1.00</td>\n",
       "    </tr>\n",
       "    <tr>\n",
       "      <th>d_coffeemaker</th>\n",
       "      <td>11743.0</td>\n",
       "      <td>0.82</td>\n",
       "      <td>0.39</td>\n",
       "      <td>0.00</td>\n",
       "      <td>1.00</td>\n",
       "      <td>1.00</td>\n",
       "      <td>1.00</td>\n",
       "      <td>1.00</td>\n",
       "    </tr>\n",
       "    <tr>\n",
       "      <th>d_hairdryer</th>\n",
       "      <td>11743.0</td>\n",
       "      <td>0.89</td>\n",
       "      <td>0.31</td>\n",
       "      <td>0.00</td>\n",
       "      <td>1.00</td>\n",
       "      <td>1.00</td>\n",
       "      <td>1.00</td>\n",
       "      <td>1.00</td>\n",
       "    </tr>\n",
       "    <tr>\n",
       "      <th>d_refrigerator</th>\n",
       "      <td>11743.0</td>\n",
       "      <td>0.88</td>\n",
       "      <td>0.32</td>\n",
       "      <td>0.00</td>\n",
       "      <td>1.00</td>\n",
       "      <td>1.00</td>\n",
       "      <td>1.00</td>\n",
       "      <td>1.00</td>\n",
       "    </tr>\n",
       "    <tr>\n",
       "      <th>d_lockbox</th>\n",
       "      <td>11743.0</td>\n",
       "      <td>0.36</td>\n",
       "      <td>0.48</td>\n",
       "      <td>0.00</td>\n",
       "      <td>0.00</td>\n",
       "      <td>0.00</td>\n",
       "      <td>1.00</td>\n",
       "      <td>1.00</td>\n",
       "    </tr>\n",
       "    <tr>\n",
       "      <th>d_backyard</th>\n",
       "      <td>11743.0</td>\n",
       "      <td>0.16</td>\n",
       "      <td>0.37</td>\n",
       "      <td>0.00</td>\n",
       "      <td>0.00</td>\n",
       "      <td>0.00</td>\n",
       "      <td>0.00</td>\n",
       "      <td>1.00</td>\n",
       "    </tr>\n",
       "    <tr>\n",
       "      <th>d_gym</th>\n",
       "      <td>11743.0</td>\n",
       "      <td>0.02</td>\n",
       "      <td>0.15</td>\n",
       "      <td>0.00</td>\n",
       "      <td>0.00</td>\n",
       "      <td>0.00</td>\n",
       "      <td>0.00</td>\n",
       "      <td>1.00</td>\n",
       "    </tr>\n",
       "    <tr>\n",
       "      <th>d_gameconsole</th>\n",
       "      <td>11743.0</td>\n",
       "      <td>0.01</td>\n",
       "      <td>0.08</td>\n",
       "      <td>0.00</td>\n",
       "      <td>0.00</td>\n",
       "      <td>0.00</td>\n",
       "      <td>0.00</td>\n",
       "      <td>1.00</td>\n",
       "    </tr>\n",
       "    <tr>\n",
       "      <th>d_conditioner</th>\n",
       "      <td>11743.0</td>\n",
       "      <td>0.06</td>\n",
       "      <td>0.24</td>\n",
       "      <td>0.00</td>\n",
       "      <td>0.00</td>\n",
       "      <td>0.00</td>\n",
       "      <td>0.00</td>\n",
       "      <td>1.00</td>\n",
       "    </tr>\n",
       "    <tr>\n",
       "      <th>d_dryer</th>\n",
       "      <td>11743.0</td>\n",
       "      <td>0.22</td>\n",
       "      <td>0.41</td>\n",
       "      <td>0.00</td>\n",
       "      <td>0.00</td>\n",
       "      <td>0.00</td>\n",
       "      <td>0.00</td>\n",
       "      <td>1.00</td>\n",
       "    </tr>\n",
       "  </tbody>\n",
       "</table>\n",
       "</div>"
      ],
      "text/plain": [
       "                          count    mean     std    min    25%     50%  \\\n",
       "price                   11743.0  125.87   48.96  10.00  90.00  118.00   \n",
       "n_accommodates          11743.0    3.87    1.31   2.00   3.00    4.00   \n",
       "n_beds                  11743.0    2.31    1.12   1.00   1.00    2.00   \n",
       "n_bedrooms              11743.0    1.61    0.69   1.00   1.00    2.00   \n",
       "n_bathrooms             11743.0    1.24    0.47   0.00   1.00    1.00   \n",
       "n_review_scores_rating  11743.0    4.65    0.41   0.00   4.55    4.75   \n",
       "d_host_is_superhost     11743.0    0.32    0.46   0.00   0.00    0.00   \n",
       "n_number_of_reviews     11743.0   78.18   98.05   1.00  12.00   39.00   \n",
       "n_minimum_nights        11743.0    3.88   16.13   1.00   2.00    2.00   \n",
       "n_maximum_nights        11743.0  590.12  586.57   2.00  62.00  365.00   \n",
       "n_reviews_per_month     11743.0    1.67    1.41   0.01   0.57    1.33   \n",
       "d_instant_bookable      11743.0    0.58    0.49   0.00   0.00    1.00   \n",
       "d_workspace             11743.0    0.34    0.47   0.00   0.00    0.00   \n",
       "d_airconditioning       11743.0    0.69    0.46   0.00   0.00    1.00   \n",
       "d_selfcheckin           11743.0    0.35    0.48   0.00   0.00    0.00   \n",
       "d_smokingallowed        11743.0    0.07    0.26   0.00   0.00    0.00   \n",
       "d_firstaidkit           11743.0    0.78    0.41   0.00   1.00    1.00   \n",
       "d_luxuryamenities       11743.0    0.54    0.50   0.00   0.00    1.00   \n",
       "d_bbq                   11743.0    0.09    0.29   0.00   0.00    0.00   \n",
       "d_windowview            11743.0    0.25    0.44   0.00   0.00    0.00   \n",
       "d_essentials            11743.0    0.97    0.17   0.00   1.00    1.00   \n",
       "d_hangers               11743.0    0.84    0.37   0.00   1.00    1.00   \n",
       "d_securitycameras       11743.0    0.05    0.22   0.00   0.00    0.00   \n",
       "d_privateentrance       11743.0    0.28    0.45   0.00   0.00    0.00   \n",
       "d_washer                11743.0    0.77    0.42   0.00   1.00    1.00   \n",
       "d_fireextinguisher      11743.0    0.78    0.41   0.00   1.00    1.00   \n",
       "d_hottub                11743.0    0.01    0.11   0.00   0.00    0.00   \n",
       "d_dishwasher            11743.0    0.48    0.50   0.00   0.00    0.00   \n",
       "d_wifi                  11743.0    0.99    0.10   0.00   1.00    1.00   \n",
       "d_keypad                11743.0    0.06    0.25   0.00   0.00    0.00   \n",
       "d_kidfriendly           11743.0    0.52    0.50   0.00   0.00    1.00   \n",
       "d_shampoo               11743.0    0.59    0.49   0.00   0.00    1.00   \n",
       "d_cabletv               11743.0    0.48    0.50   0.00   0.00    0.00   \n",
       "d_paidparking           11743.0    0.35    0.48   0.00   0.00    0.00   \n",
       "d_soundsystem           11743.0    0.04    0.21   0.00   0.00    0.00   \n",
       "d_tv                    11743.0    0.48    0.50   0.00   0.00    0.00   \n",
       "d_privatelivingroom     11743.0    0.37    0.48   0.00   0.00    0.00   \n",
       "d_elevator              11743.0    0.22    0.42   0.00   0.00    0.00   \n",
       "d_beachaccess           11743.0    0.15    0.35   0.00   0.00    0.00   \n",
       "d_breakfast             11743.0    0.01    0.08   0.00   0.00    0.00   \n",
       "d_others                11743.0    0.87    0.34   0.00   1.00    1.00   \n",
       "d_bodysoap              11743.0    0.43    0.49   0.00   0.00    0.00   \n",
       "d_pool                  11743.0    0.07    0.25   0.00   0.00    0.00   \n",
       "d_closet                11743.0    0.43    0.49   0.00   0.00    0.00   \n",
       "d_smokedetector         11743.0    0.36    0.48   0.00   0.00    0.00   \n",
       "d_petfriendly           11743.0    0.14    0.35   0.00   0.00    0.00   \n",
       "d_indoorfireplace       11743.0    0.07    0.26   0.00   0.00    0.00   \n",
       "d_outdooramenities      11743.0    0.46    0.50   0.00   0.00    0.00   \n",
       "d_freeparking           11743.0    0.35    0.48   0.00   0.00    0.00   \n",
       "d_kitchen               11743.0    0.99    0.08   0.00   1.00    1.00   \n",
       "d_coffeemaker           11743.0    0.82    0.39   0.00   1.00    1.00   \n",
       "d_hairdryer             11743.0    0.89    0.31   0.00   1.00    1.00   \n",
       "d_refrigerator          11743.0    0.88    0.32   0.00   1.00    1.00   \n",
       "d_lockbox               11743.0    0.36    0.48   0.00   0.00    0.00   \n",
       "d_backyard              11743.0    0.16    0.37   0.00   0.00    0.00   \n",
       "d_gym                   11743.0    0.02    0.15   0.00   0.00    0.00   \n",
       "d_gameconsole           11743.0    0.01    0.08   0.00   0.00    0.00   \n",
       "d_conditioner           11743.0    0.06    0.24   0.00   0.00    0.00   \n",
       "d_dryer                 11743.0    0.22    0.41   0.00   0.00    0.00   \n",
       "\n",
       "                            75%       max  \n",
       "price                    153.00    276.00  \n",
       "n_accommodates             5.00      6.00  \n",
       "n_beds                     3.00     11.00  \n",
       "n_bedrooms                 2.00      6.00  \n",
       "n_bathrooms                1.00      4.50  \n",
       "n_review_scores_rating     4.89      5.00  \n",
       "d_host_is_superhost        1.00      1.00  \n",
       "n_number_of_reviews      107.00   1002.00  \n",
       "n_minimum_nights           3.00   1000.00  \n",
       "n_maximum_nights        1125.00  36180.00  \n",
       "n_reviews_per_month        2.42     16.14  \n",
       "d_instant_bookable         1.00      1.00  \n",
       "d_workspace                1.00      1.00  \n",
       "d_airconditioning          1.00      1.00  \n",
       "d_selfcheckin              1.00      1.00  \n",
       "d_smokingallowed           0.00      1.00  \n",
       "d_firstaidkit              1.00      1.00  \n",
       "d_luxuryamenities          1.00      1.00  \n",
       "d_bbq                      0.00      1.00  \n",
       "d_windowview               1.00      1.00  \n",
       "d_essentials               1.00      1.00  \n",
       "d_hangers                  1.00      1.00  \n",
       "d_securitycameras          0.00      1.00  \n",
       "d_privateentrance          1.00      1.00  \n",
       "d_washer                   1.00      1.00  \n",
       "d_fireextinguisher         1.00      1.00  \n",
       "d_hottub                   0.00      1.00  \n",
       "d_dishwasher               1.00      1.00  \n",
       "d_wifi                     1.00      1.00  \n",
       "d_keypad                   0.00      1.00  \n",
       "d_kidfriendly              1.00      1.00  \n",
       "d_shampoo                  1.00      1.00  \n",
       "d_cabletv                  1.00      1.00  \n",
       "d_paidparking              1.00      1.00  \n",
       "d_soundsystem              0.00      1.00  \n",
       "d_tv                       1.00      1.00  \n",
       "d_privatelivingroom        1.00      1.00  \n",
       "d_elevator                 0.00      1.00  \n",
       "d_beachaccess              0.00      1.00  \n",
       "d_breakfast                0.00      1.00  \n",
       "d_others                   1.00      1.00  \n",
       "d_bodysoap                 1.00      1.00  \n",
       "d_pool                     0.00      1.00  \n",
       "d_closet                   1.00      1.00  \n",
       "d_smokedetector            1.00      1.00  \n",
       "d_petfriendly              0.00      1.00  \n",
       "d_indoorfireplace          0.00      1.00  \n",
       "d_outdooramenities         1.00      1.00  \n",
       "d_freeparking              1.00      1.00  \n",
       "d_kitchen                  1.00      1.00  \n",
       "d_coffeemaker              1.00      1.00  \n",
       "d_hairdryer                1.00      1.00  \n",
       "d_refrigerator             1.00      1.00  \n",
       "d_lockbox                  1.00      1.00  \n",
       "d_backyard                 0.00      1.00  \n",
       "d_gym                      0.00      1.00  \n",
       "d_gameconsole              0.00      1.00  \n",
       "d_conditioner              0.00      1.00  \n",
       "d_dryer                    0.00      1.00  "
      ]
     },
     "execution_count": 65,
     "metadata": {},
     "output_type": "execute_result"
    }
   ],
   "source": [
    "clean_df.describe().T.round(2)"
   ]
  },
  {
   "cell_type": "markdown",
   "id": "9f0aae00",
   "metadata": {},
   "source": [
    "# Modelling"
   ]
  },
  {
   "cell_type": "markdown",
   "id": "b0373517",
   "metadata": {},
   "source": [
    "### Shortlisting variables using LASSO\n",
    "    1. Grouping Variables by topic for easy coding"
   ]
  },
  {
   "cell_type": "code",
   "execution_count": 66,
   "id": "133167eb",
   "metadata": {},
   "outputs": [],
   "source": [
    "# Seperating my variables by topic\n",
    "\n",
    "## basic variables\n",
    "basic_vars = [\"f_property_type\",\"n_accommodates\",\"n_bedrooms\",\"n_bathrooms\",\"n_beds\",\"f_neighbourhood_cleansed\"]\n",
    "\n",
    "## reviews\n",
    "reviews = [\"n_number_of_reviews\",\"n_review_scores_rating\",]\n",
    "\n",
    "## dummies\n",
    "dummies = list(clean_df.filter(regex=\"^d_.*\"))\n",
    "\n",
    "\n",
    "## interactions\n",
    "\n",
    "# for interactions I interacted property types and accommodates with all the dummies\n",
    "interactions = []\n",
    "\n",
    "for dummy_col in clean_df.filter(regex=\"^d_.*\"):\n",
    "    \n",
    "    interaction_f = 'f_property_type' + '*' + dummy_col + ' + '\n",
    "    interactions.append(interaction_f)\n",
    "    \n",
    "    interaction_n = 'n_accommodates' + '*' + dummy_col + ' + '\n",
    "    interactions.append(interaction_n)\n",
    "\n",
    "all_interactions = ''.join(interactions)\n",
    "all_interactions = all_interactions[:-3]\n",
    "\n",
    "\n"
   ]
  },
  {
   "cell_type": "code",
   "execution_count": 67,
   "id": "15b42d17",
   "metadata": {},
   "outputs": [
    {
     "data": {
      "image/png": "[encoded data removed]",
      "text/plain": [
       "<Figure size 800x600 with 1 Axes>"
      ]
     },
     "metadata": {
      "image/png": {
       "height": 600,
       "width": 800
      },
      "needs_background": "light"
     },
     "output_type": "display_data"
    },
    {
     "data": {
      "text/plain": [
       "<Figure Size: (800 x 600)>"
      ]
     },
     "execution_count": 67,
     "metadata": {},
     "output_type": "execute_result"
    }
   ],
   "source": [
    "# Checking if theres need of adding a property and accommodates interactions\n",
    "(\n",
    "    ggplot(\n",
    "        clean_df,\n",
    "        aes(\n",
    "            x=\"factor(n_accommodates)\",\n",
    "            y=\"price\",\n",
    "            # fill=\"factor(f_property_type)\",\n",
    "            color=\"factor(f_property_type)\",\n",
    "        ),\n",
    "    )\n",
    "    + geom_boxplot(alpha=0.8, na_rm=True, outlier_shape=\"\", width=0.9, stat=\"boxplot\")\n",
    "    + scale_color_manual(name=\"Property Type\", values=(color[0], color[1],color[2], color[3]))\n",
    "    + scale_fill_manual(name=\"\", values=(color[0], color[1], color[2], color[3]))\n",
    "    + labs(x=\"Accomodates\", y=\"Price\", color=\"Property Type\")\n",
    "    + scale_y_continuous(expand=(0.01, 0.01), limits=(0, 300), breaks=seq(0, 401, 50))\n",
    "    + theme_minimal() + \n",
    "       theme(legend_position=(0.3, 0.9),panel_grid_major=element_blank(), panel_grid_minor=element_blank(), \n",
    "             plot_title=element_text(size=20), axis_text=element_text(size=12), axis_title=element_text(size=14), \n",
    "             figure_size=(8, 6))\n",
    ")\n"
   ]
  },
  {
   "cell_type": "markdown",
   "id": "46bddaa0",
   "metadata": {},
   "source": [
    "#### As per my decision, I chose not add interactions between property type and accommodates\n"
   ]
  },
  {
   "cell_type": "code",
   "execution_count": 68,
   "id": "05610010",
   "metadata": {},
   "outputs": [],
   "source": [
    "model1=\"~\"+\"+\".join(basic_vars)\n",
    "model2=\"~\"+\"+\".join(basic_vars)+\"+\"+\"+\".join(reviews)+\"+\"+\"+\".join(dummies)\n",
    "model3=\"~\"+\"+\".join(basic_vars)+\"+\"+\"+\".join(reviews)+\"+\"+\"+\".join(dummies)+\"+\"+all_interactions\n",
    "\n",
    "\n",
    "predictors = basic_vars + reviews + dummies"
   ]
  },
  {
   "cell_type": "code",
   "execution_count": 69,
   "id": "3ff2b6da",
   "metadata": {},
   "outputs": [
    {
     "name": "stdout",
     "output_type": "stream",
     "text": [
      "Number of variables before LASSO:  155\n"
     ]
    }
   ],
   "source": [
    "total_variables = model3.split(\"+\")\n",
    "\n",
    "num_words = len(total_variables)\n",
    "\n",
    "print(\"Number of variables before LASSO: \", num_words)"
   ]
  },
  {
   "cell_type": "markdown",
   "id": "15a58c5c",
   "metadata": {},
   "source": [
    "#### Note that model 3 is the most complex with all the interactions, and will be used in LASSO to shortlist our variables for usage"
   ]
  },
  {
   "cell_type": "markdown",
   "id": "68d6959a",
   "metadata": {},
   "source": [
    "*Using Naive Grid Search method*"
   ]
  },
  {
   "cell_type": "code",
   "execution_count": 70,
   "id": "b7400fe7",
   "metadata": {},
   "outputs": [],
   "source": [
    "cv = RepeatedKFold(n_splits=5, n_repeats=1, random_state=1)\n",
    "y, X = patsy.dmatrices(\"price\" + model3, clean_df)"
   ]
  },
  {
   "cell_type": "code",
   "execution_count": 71,
   "id": "ea1bac1d",
   "metadata": {},
   "outputs": [
    {
     "data": {
      "text/plain": [
       "2348"
      ]
     },
     "execution_count": 71,
     "metadata": {},
     "output_type": "execute_result"
    }
   ],
   "source": [
    "smp_size = round(0.2 * clean_df.shape[0])-1\n",
    "smp_size"
   ]
  },
  {
   "cell_type": "code",
   "execution_count": 72,
   "id": "f29acfe4",
   "metadata": {},
   "outputs": [],
   "source": [
    "scaler = StandardScaler()\n",
    "X = scaler.fit_transform(X)\n",
    "\n",
    "X_train, X_test, y_train, y_test = train_test_split(\n",
    "    X, y, test_size=smp_size, random_state=10\n",
    ")\n",
    "\n",
    "lambdas = [i/100 for i in range(5, 100,5)]\n",
    "\n",
    "train_r_squared = np.zeros(len(lambdas))\n",
    "test_r_squared = np.zeros(len(lambdas))\n",
    "\n",
    "pred_num = X.shape[1]\n",
    "coeff_a = np.zeros((len(lambdas), pred_num))"
   ]
  },
  {
   "cell_type": "code",
   "execution_count": 73,
   "id": "1ca85c96",
   "metadata": {},
   "outputs": [
    {
     "name": "stdout",
     "output_type": "stream",
     "text": [
      "Run:  0, lambda: 0.05, start: 2024-02-11 16:10:35\n",
      "Run:  1, lambda: 0.10, start: 2024-02-11 16:10:46\n",
      "Run:  2, lambda: 0.15, start: 2024-02-11 16:10:52\n",
      "Run:  3, lambda: 0.20, start: 2024-02-11 16:10:56\n",
      "Run:  4, lambda: 0.25, start: 2024-02-11 16:11:00\n",
      "Run:  5, lambda: 0.30, start: 2024-02-11 16:11:03\n",
      "Run:  6, lambda: 0.35, start: 2024-02-11 16:11:05\n",
      "Run:  7, lambda: 0.40, start: 2024-02-11 16:11:08\n",
      "Run:  8, lambda: 0.45, start: 2024-02-11 16:11:10\n",
      "Run:  9, lambda: 0.50, start: 2024-02-11 16:11:12\n",
      "Run: 10, lambda: 0.55, start: 2024-02-11 16:11:14\n",
      "Run: 11, lambda: 0.60, start: 2024-02-11 16:11:16\n",
      "Run: 12, lambda: 0.65, start: 2024-02-11 16:11:18\n",
      "Run: 13, lambda: 0.70, start: 2024-02-11 16:11:20\n",
      "Run: 14, lambda: 0.75, start: 2024-02-11 16:11:22\n",
      "Run: 15, lambda: 0.80, start: 2024-02-11 16:11:24\n",
      "Run: 16, lambda: 0.85, start: 2024-02-11 16:11:26\n",
      "Run: 17, lambda: 0.90, start: 2024-02-11 16:11:27\n",
      "Run: 18, lambda: 0.95, start: 2024-02-11 16:11:29\n"
     ]
    }
   ],
   "source": [
    "for ind, i in enumerate(lambdas):\n",
    "    print(f\"Run: {str(ind).rjust(2)}, lambda: {i:.2f}, start: {datetime.datetime.now().strftime('%Y-%m-%d %H:%M:%S')}\")\n",
    "    reg = Lasso(alpha = i, random_state= 20240115)\n",
    "    reg.fit(X_train, y_train)\n",
    "    results = cross_val_score(reg, X, y, cv=cv, scoring=\"r2\")\n",
    "\n",
    "    train_r_squared[ind] = reg.score(X_train, y_train)    \n",
    "    test_r_squared[ind] = reg.score(X_test, y_test)"
   ]
  },
  {
   "cell_type": "code",
   "execution_count": 74,
   "id": "faa6f022",
   "metadata": {},
   "outputs": [],
   "source": [
    "r_squared_data = (\n",
    "    pd.DataFrame(\n",
    "        {\n",
    "            \"$R^2$ Test set\": test_r_squared,\n",
    "            \"$R^2$ Training set\": train_r_squared,\n",
    "            \"lambda\": lambdas,\n",
    "        }\n",
    "    )\n",
    "    .melt(id_vars=[\"lambda\"])\n",
    ")\n",
    "\n",
    "r_squared_data[\"variable\"] = r_squared_data[\"variable\"].astype(\"category\").cat.reorder_categories(\n",
    "    [\"$R^2$ Training set\", \"$R^2$ Test set\"]\n",
    ")\n"
   ]
  },
  {
   "cell_type": "markdown",
   "id": "3aaca061",
   "metadata": {},
   "source": [
    "#### Comparing our training and tests sets, $R^{2}$ with our Lambdas"
   ]
  },
  {
   "cell_type": "code",
   "execution_count": 75,
   "id": "477a5b6d",
   "metadata": {},
   "outputs": [
    {
     "data": {
      "image/png": "[encoded data removed]",
      "text/plain": [
       "<Figure size 640x480 with 1 Axes>"
      ]
     },
     "metadata": {
      "image/png": {
       "height": 480,
       "width": 640
      }
     },
     "output_type": "display_data"
    },
    {
     "data": {
      "text/plain": [
       "<Figure Size: (640 x 480)>"
      ]
     },
     "execution_count": 75,
     "metadata": {},
     "output_type": "execute_result"
    }
   ],
   "source": [
    "(\n",
    "    ggplot(r_squared_data, aes(x=\"lambda\", y=\"value\", color=\"variable\"))\n",
    "    + geom_point()\n",
    "    + geom_line(size=1, show_legend=False, na_rm=True)\n",
    "    + scale_color_manual(name=\"\", values=(color[1], color[0]))\n",
    "    + scale_y_continuous(name=\"$R^2$\")\n",
    "    + theme_bw()\n",
    "    + theme(subplots_adjust={\"wspace\": 0.25},legend_title=element_blank())\n",
    ")"
   ]
  },
  {
   "cell_type": "code",
   "execution_count": 76,
   "id": "4e440340",
   "metadata": {},
   "outputs": [
    {
     "data": {
      "text/plain": [
       "R_squared    36.688222\n",
       "lambda        0.100000\n",
       "Name: 1, dtype: float64"
      ]
     },
     "execution_count": 76,
     "metadata": {},
     "output_type": "execute_result"
    }
   ],
   "source": [
    "df_lam = pd.DataFrame(test_r_squared*100, columns=['R_squared'])\n",
    "df_lam['lambda'] = (lambdas)\n",
    "# returns the index of the row where column has maximum value.\n",
    "df_lam.loc[df_lam['R_squared'].idxmax()]"
   ]
  },
  {
   "cell_type": "code",
   "execution_count": 77,
   "id": "fe748da7",
   "metadata": {},
   "outputs": [
    {
     "data": {
      "text/html": [
       "<style>#sk-container-id-1 {color: black;}#sk-container-id-1 pre{padding: 0;}#sk-container-id-1 div.sk-toggleable {background-color: white;}#sk-container-id-1 label.sk-toggleable__label {cursor: pointer;display: block;width: 100%;margin-bottom: 0;padding: 0.3em;box-sizing: border-box;text-align: center;}#sk-container-id-1 label.sk-toggleable__label-arrow:before {content: \"▸\";float: left;margin-right: 0.25em;color: #696969;}#sk-container-id-1 label.sk-toggleable__label-arrow:hover:before {color: black;}#sk-container-id-1 div.sk-estimator:hover label.sk-toggleable__label-arrow:before {color: black;}#sk-container-id-1 div.sk-toggleable__content {max-height: 0;max-width: 0;overflow: hidden;text-align: left;background-color: #f0f8ff;}#sk-container-id-1 div.sk-toggleable__content pre {margin: 0.2em;color: black;border-radius: 0.25em;background-color: #f0f8ff;}#sk-container-id-1 input.sk-toggleable__control:checked~div.sk-toggleable__content {max-height: 200px;max-width: 100%;overflow: auto;}#sk-container-id-1 input.sk-toggleable__control:checked~label.sk-toggleable__label-arrow:before {content: \"▾\";}#sk-container-id-1 div.sk-estimator input.sk-toggleable__control:checked~label.sk-toggleable__label {background-color: #d4ebff;}#sk-container-id-1 div.sk-label input.sk-toggleable__control:checked~label.sk-toggleable__label {background-color: #d4ebff;}#sk-container-id-1 input.sk-hidden--visually {border: 0;clip: rect(1px 1px 1px 1px);clip: rect(1px, 1px, 1px, 1px);height: 1px;margin: -1px;overflow: hidden;padding: 0;position: absolute;width: 1px;}#sk-container-id-1 div.sk-estimator {font-family: monospace;background-color: #f0f8ff;border: 1px dotted black;border-radius: 0.25em;box-sizing: border-box;margin-bottom: 0.5em;}#sk-container-id-1 div.sk-estimator:hover {background-color: #d4ebff;}#sk-container-id-1 div.sk-parallel-item::after {content: \"\";width: 100%;border-bottom: 1px solid gray;flex-grow: 1;}#sk-container-id-1 div.sk-label:hover label.sk-toggleable__label {background-color: #d4ebff;}#sk-container-id-1 div.sk-serial::before {content: \"\";position: absolute;border-left: 1px solid gray;box-sizing: border-box;top: 0;bottom: 0;left: 50%;z-index: 0;}#sk-container-id-1 div.sk-serial {display: flex;flex-direction: column;align-items: center;background-color: white;padding-right: 0.2em;padding-left: 0.2em;position: relative;}#sk-container-id-1 div.sk-item {position: relative;z-index: 1;}#sk-container-id-1 div.sk-parallel {display: flex;align-items: stretch;justify-content: center;background-color: white;position: relative;}#sk-container-id-1 div.sk-item::before, #sk-container-id-1 div.sk-parallel-item::before {content: \"\";position: absolute;border-left: 1px solid gray;box-sizing: border-box;top: 0;bottom: 0;left: 50%;z-index: -1;}#sk-container-id-1 div.sk-parallel-item {display: flex;flex-direction: column;z-index: 1;position: relative;background-color: white;}#sk-container-id-1 div.sk-parallel-item:first-child::after {align-self: flex-end;width: 50%;}#sk-container-id-1 div.sk-parallel-item:last-child::after {align-self: flex-start;width: 50%;}#sk-container-id-1 div.sk-parallel-item:only-child::after {width: 0;}#sk-container-id-1 div.sk-dashed-wrapped {border: 1px dashed gray;margin: 0 0.4em 0.5em 0.4em;box-sizing: border-box;padding-bottom: 0.4em;background-color: white;}#sk-container-id-1 div.sk-label label {font-family: monospace;font-weight: bold;display: inline-block;line-height: 1.2em;}#sk-container-id-1 div.sk-label-container {text-align: center;}#sk-container-id-1 div.sk-container {/* jupyter's `normalize.less` sets `[hidden] { display: none; }` but bootstrap.min.css set `[hidden] { display: none !important; }` so we also need the `!important` here to be able to override the default hidden behavior on the sphinx rendered scikit-learn.org. See: https://github.com/scikit-learn/scikit-learn/issues/21755 */display: inline-block !important;position: relative;}#sk-container-id-1 div.sk-text-repr-fallback {display: none;}</style><div id=\"sk-container-id-1\" class=\"sk-top-container\"><div class=\"sk-text-repr-fallback\"><pre>Lasso(alpha=0.1)</pre><b>In a Jupyter environment, please rerun this cell to show the HTML representation or trust the notebook. <br />On GitHub, the HTML representation is unable to render, please try loading this page with nbviewer.org.</b></div><div class=\"sk-container\" hidden><div class=\"sk-item\"><div class=\"sk-estimator sk-toggleable\"><input class=\"sk-toggleable__control sk-hidden--visually\" id=\"sk-estimator-id-1\" type=\"checkbox\" checked><label for=\"sk-estimator-id-1\" class=\"sk-toggleable__label sk-toggleable__label-arrow\">Lasso</label><div class=\"sk-toggleable__content\"><pre>Lasso(alpha=0.1)</pre></div></div></div></div></div>"
      ],
      "text/plain": [
       "Lasso(alpha=0.1)"
      ]
     },
     "execution_count": 77,
     "metadata": {},
     "output_type": "execute_result"
    }
   ],
   "source": [
    "reg_best = Lasso(alpha = df_lam.loc[df_lam['R_squared'].idxmax()]['lambda'])\n",
    "reg_best.fit(X_train, y_train)"
   ]
  },
  {
   "cell_type": "code",
   "execution_count": 78,
   "id": "60fcb21c",
   "metadata": {},
   "outputs": [
    {
     "name": "stdout",
     "output_type": "stream",
     "text": [
      "~f_property_type: 0.5453955747979116\n",
      "n_accommodates: 0.5885871847354722\n",
      "n_bedrooms: 0.441638555409902\n",
      "n_bathrooms: 0.20120084806143654\n",
      "n_beds: 2.7102208332222775\n",
      "f_neighbourhood_cleansed: 1.0662143453360082\n",
      "n_number_of_reviews: 0.4963459764746817\n",
      "n_review_scores_rating: 1.531987477824882\n",
      "d_host_is_superhost: 0.21520826727098782\n",
      "d_instant_bookable: 4.674388911474586\n",
      "d_workspace: 0.8697014623519185\n",
      "d_airconditioning: 0.3202540698180346\n",
      "d_selfcheckin: 3.7143911454311493\n",
      "d_smokingallowed: 0.014860089145839016\n",
      "d_firstaidkit: 0.1660670966354052\n",
      "d_luxuryamenities: 10.088942012089127\n",
      "d_bbq: 0.00686637473134893\n",
      "d_windowview: 2.352349363779346\n",
      "d_essentials: 0.24154148705291303\n",
      "d_hangers: 11.950886439224135\n",
      "d_securitycameras: 5.336049583593\n",
      "d_privateentrance: 0.5260888266055657\n",
      "d_washer: 4.043489642165443\n",
      "d_fireextinguisher: 0.056611759506841615\n",
      "d_hottub: 1.1421396513985536\n",
      "d_dishwasher: 7.854216722963027\n",
      "d_wifi: 8.676359415110115\n",
      "d_keypad: 1.5109469958698627\n",
      "d_kidfriendly: 2.095508974849328\n",
      "d_shampoo: 1.8360182984768645\n",
      "d_cabletv: 0.0003324455937009703\n",
      "d_paidparking: 0.11854705785988018\n",
      "d_soundsystem: 2.3532331830096473\n",
      "d_tv: 0.37490536727625806\n",
      "d_privatelivingroom: 2.078776169559792\n",
      "d_elevator: 0.052422240564714034\n",
      "d_beachaccess: 0.010113552244679358\n",
      "d_breakfast: 0.03304948779246621\n",
      "d_others: 3.5425628771953575\n",
      "d_bodysoap: 0.41629334197253093\n",
      "d_pool: 0.6207125886488375\n",
      "d_closet: 0.41033031575843487\n",
      "d_smokedetector: 0.36211114969707453\n",
      "d_petfriendly: 0.4566260129449691\n",
      "d_indoorfireplace: 0.6519609570449101\n",
      "d_outdooramenities: 0.10585566943206765\n",
      "d_freeparking: 1.8221206860884607\n",
      "d_kitchen: 0.8777928284740726\n",
      "d_coffeemaker: 0.10501248479016036\n",
      "d_hairdryer: 1.877206843209573\n",
      "d_refrigerator: 0.8894318597719206\n",
      "d_lockbox: 0.17218188524629077\n",
      "d_backyard: 1.5535951131918193\n",
      "d_gym: 0.4471495660733751\n",
      "d_gameconsole: 5.819673046821041\n",
      "d_conditioner: 0.8896937651716574\n",
      "d_dryer: 1.2061112227592719\n",
      "f_property_type*d_host_is_superhost: 1.110068396650542\n",
      "n_accommodates*d_host_is_superhost: 0.33925724050448397\n",
      "f_property_type*d_instant_bookable: 1.3914635022246862\n",
      "n_accommodates*d_instant_bookable: 0.8812437358559994\n",
      "f_property_type*d_workspace: 1.373187514127181\n",
      "n_accommodates*d_workspace: 0.25925870372977894\n",
      "f_property_type*d_airconditioning: 0.7498294522207049\n",
      "n_accommodates*d_airconditioning: 0.8737014632591474\n",
      "f_property_type*d_selfcheckin: 0.17741319161011845\n",
      "n_accommodates*d_selfcheckin: 1.129680114447389\n",
      "f_property_type*d_smokingallowed: 1.3056202950070854\n",
      "n_accommodates*d_smokingallowed: 0.010257940728092786\n",
      "f_property_type*d_firstaidkit: 1.2257654535383244\n",
      "n_accommodates*d_firstaidkit: 1.4494930128107062\n",
      "f_property_type*d_luxuryamenities: 2.6853314265992023\n",
      "n_accommodates*d_luxuryamenities: 0.5048852224193776\n",
      "f_property_type*d_bbq: 0.5838128782149402\n",
      "n_accommodates*d_bbq: 1.2131046096432596\n",
      "f_property_type*d_windowview: 0.02932273291832421\n",
      "n_accommodates*d_windowview: 0.6686518331003922\n",
      "f_property_type*d_essentials: 7.674347243721451\n",
      "n_accommodates*d_essentials: 0.01241418421983428\n",
      "f_property_type*d_hangers: 0.6067186153675223\n",
      "n_accommodates*d_hangers: 0.12535668737330755\n",
      "f_property_type*d_securitycameras: 0.34765966982861973\n",
      "n_accommodates*d_securitycameras: 2.4490094300459435\n",
      "f_property_type*d_privateentrance: 0.1976046012188618\n",
      "n_accommodates*d_privateentrance: 0.7425662350238161\n",
      "f_property_type*d_washer: 1.316339241195688\n",
      "n_accommodates*d_washer: 0.9754194777019369\n",
      "f_property_type*d_fireextinguisher: 1.258580217448012\n",
      "n_accommodates*d_fireextinguisher: 0.49900212006999356\n",
      "f_property_type*d_hottub: 1.4635103561218084\n",
      "n_accommodates*d_hottub: 0.8295292933044269\n",
      "f_property_type*d_dishwasher: 0.9122410894813683\n",
      "n_accommodates*d_dishwasher: 0.3228309177753582\n",
      "f_property_type*d_wifi: 0.20254094457566973\n",
      "n_accommodates*d_wifi: 0.1293444775833231\n",
      "f_property_type*d_keypad: 0.11475150442110957\n",
      "n_accommodates*d_keypad: 0.08766741708865672\n",
      "f_property_type*d_kidfriendly: 4.345092249322512\n",
      "n_accommodates*d_kidfriendly: 0.7103275298985898\n",
      "f_property_type*d_shampoo: 1.0318210739514102\n",
      "n_accommodates*d_shampoo: 1.7912442655599314\n",
      "f_property_type*d_cabletv: 0.5714250891475895\n",
      "n_accommodates*d_cabletv: 1.5995573842503827\n",
      "f_property_type*d_paidparking: 3.3869526713064673\n",
      "n_accommodates*d_paidparking: 2.0607287526927283\n",
      "f_property_type*d_soundsystem: 0.2801677942785281\n",
      "n_accommodates*d_soundsystem: 0.4353724494367257\n",
      "f_property_type*d_tv: 1.7765207732139177\n",
      "n_accommodates*d_tv: 2.7636637950331067\n",
      "f_property_type*d_privatelivingroom: 1.7217495255733393\n",
      "n_accommodates*d_privatelivingroom: 0.2645733958693757\n",
      "f_property_type*d_elevator: 0.26698296883134653\n"
     ]
    }
   ],
   "source": [
    "coefficients = reg_best.coef_[reg_best.coef_>0]\n",
    "\n",
    "# Print the coefficients along with their corresponding feature names\n",
    "for feature, coefficient in zip(model3.split('+'), coefficients):\n",
    "    print(f\"{feature.strip()}: {coefficient}\")"
   ]
  },
  {
   "cell_type": "code",
   "execution_count": 79,
   "id": "05f2fb64",
   "metadata": {},
   "outputs": [],
   "source": [
    "coefficients_data = [\n",
    "    (feature.strip(), coefficient) \n",
    "    for feature, coefficient in zip(model3.split('+'), coefficients)\n",
    "]\n",
    "\n",
    "coefficients_df = pd.DataFrame(coefficients_data, columns=['Feature', 'Coefficient'])\n",
    "\n"
   ]
  },
  {
   "cell_type": "markdown",
   "id": "358d1497",
   "metadata": {},
   "source": [
    "<b>*According to LASSO, 113 variables should be used (based on my given strictness value of 0)*"
   ]
  },
  {
   "cell_type": "code",
   "execution_count": 80,
   "id": "c9c74eb8",
   "metadata": {
    "scrolled": true
   },
   "outputs": [
    {
     "data": {
      "text/plain": [
       "(112, 2)"
      ]
     },
     "execution_count": 80,
     "metadata": {},
     "output_type": "execute_result"
    }
   ],
   "source": [
    "coefficients_df['Feature'] = coefficients_df['Feature'].str.replace('~','')\n",
    "coefficients_df['Feature'] = coefficients_df['Feature'].str.replace(')','')\n",
    "coefficients_df['Feature'] = coefficients_df['Feature'].str.replace('(','')\n",
    "coefficients_df.shape"
   ]
  },
  {
   "cell_type": "code",
   "execution_count": 81,
   "id": "6dff25d2",
   "metadata": {},
   "outputs": [
    {
     "data": {
      "text/html": [
       "<div>\n",
       "<style scoped>\n",
       "    .dataframe tbody tr th:only-of-type {\n",
       "        vertical-align: middle;\n",
       "    }\n",
       "\n",
       "    .dataframe tbody tr th {\n",
       "        vertical-align: top;\n",
       "    }\n",
       "\n",
       "    .dataframe thead th {\n",
       "        text-align: right;\n",
       "    }\n",
       "</style>\n",
       "<table border=\"1\" class=\"dataframe\">\n",
       "  <thead>\n",
       "    <tr style=\"text-align: right;\">\n",
       "      <th></th>\n",
       "      <th>Feature</th>\n",
       "      <th>Coefficient</th>\n",
       "    </tr>\n",
       "  </thead>\n",
       "  <tbody>\n",
       "    <tr>\n",
       "      <th>0</th>\n",
       "      <td>f_property_type</td>\n",
       "      <td>0.545396</td>\n",
       "    </tr>\n",
       "    <tr>\n",
       "      <th>1</th>\n",
       "      <td>n_accommodates</td>\n",
       "      <td>0.588587</td>\n",
       "    </tr>\n",
       "    <tr>\n",
       "      <th>2</th>\n",
       "      <td>n_bedrooms</td>\n",
       "      <td>0.441639</td>\n",
       "    </tr>\n",
       "    <tr>\n",
       "      <th>3</th>\n",
       "      <td>n_bathrooms</td>\n",
       "      <td>0.201201</td>\n",
       "    </tr>\n",
       "    <tr>\n",
       "      <th>4</th>\n",
       "      <td>n_beds</td>\n",
       "      <td>2.710221</td>\n",
       "    </tr>\n",
       "    <tr>\n",
       "      <th>...</th>\n",
       "      <td>...</td>\n",
       "      <td>...</td>\n",
       "    </tr>\n",
       "    <tr>\n",
       "      <th>107</th>\n",
       "      <td>f_property_type*d_tv</td>\n",
       "      <td>1.776521</td>\n",
       "    </tr>\n",
       "    <tr>\n",
       "      <th>108</th>\n",
       "      <td>n_accommodates*d_tv</td>\n",
       "      <td>2.763664</td>\n",
       "    </tr>\n",
       "    <tr>\n",
       "      <th>109</th>\n",
       "      <td>f_property_type*d_privatelivingroom</td>\n",
       "      <td>1.721750</td>\n",
       "    </tr>\n",
       "    <tr>\n",
       "      <th>110</th>\n",
       "      <td>n_accommodates*d_privatelivingroom</td>\n",
       "      <td>0.264573</td>\n",
       "    </tr>\n",
       "    <tr>\n",
       "      <th>111</th>\n",
       "      <td>f_property_type*d_elevator</td>\n",
       "      <td>0.266983</td>\n",
       "    </tr>\n",
       "  </tbody>\n",
       "</table>\n",
       "<p>112 rows × 2 columns</p>\n",
       "</div>"
      ],
      "text/plain": [
       "                                 Feature  Coefficient\n",
       "0                        f_property_type     0.545396\n",
       "1                         n_accommodates     0.588587\n",
       "2                             n_bedrooms     0.441639\n",
       "3                            n_bathrooms     0.201201\n",
       "4                                 n_beds     2.710221\n",
       "..                                   ...          ...\n",
       "107                 f_property_type*d_tv     1.776521\n",
       "108                  n_accommodates*d_tv     2.763664\n",
       "109  f_property_type*d_privatelivingroom     1.721750\n",
       "110   n_accommodates*d_privatelivingroom     0.264573\n",
       "111           f_property_type*d_elevator     0.266983\n",
       "\n",
       "[112 rows x 2 columns]"
      ]
     },
     "execution_count": 81,
     "metadata": {},
     "output_type": "execute_result"
    }
   ],
   "source": [
    "coefficients_df"
   ]
  },
  {
   "cell_type": "code",
   "execution_count": 82,
   "id": "86b1347e",
   "metadata": {},
   "outputs": [
    {
     "name": "stdout",
     "output_type": "stream",
     "text": [
      "Number of variables after LASSO:  112\n"
     ]
    }
   ],
   "source": [
    "num_words = coefficients_df.shape[0]\n",
    "\n",
    "print(\"Number of variables after LASSO: \", num_words)"
   ]
  },
  {
   "cell_type": "code",
   "execution_count": 83,
   "id": "efe0442f",
   "metadata": {},
   "outputs": [],
   "source": [
    "def interactions(df, factor_var, dummy_var, factor_lab, dummy_lab):\n",
    "    stats = df.groupby([factor_var, dummy_var]).agg(\n",
    "        Mean=(\"price\", np.mean), sd=(\"price\", np.std), size=(\"price\", \"size\")\n",
    "    )\n",
    "    stats[\"se\"] = stats[\"sd\"] / stats[\"size\"] ** (1 / 2)\n",
    "    stats[\"Mean_l\"] = stats[\"Mean\"] - (1.96 * stats[\"se\"])\n",
    "    stats[\"Mean_u\"] = stats[\"Mean\"] + (1.96 * stats[\"se\"])\n",
    "    stats = stats.drop([\"sd\", \"size\"], axis=1).reset_index()\n",
    "    plot = (\n",
    "        ggplot(\n",
    "            stats,\n",
    "            aes(\n",
    "                stats.columns[0],\n",
    "                stats.columns[2],\n",
    "                fill=\"factor(\" + stats.columns[1] + \")\",\n",
    "            ),\n",
    "        )\n",
    "        + geom_bar(stat=\"identity\", position=position_dodge(width=0.9))\n",
    "        + geom_errorbar(\n",
    "            aes(ymin=\"Mean_l\", ymax=\"Mean_u\"),\n",
    "            position=position_dodge(width=0.9),\n",
    "            width=0.25,\n",
    "        )\n",
    "        + scale_color_manual(name=dummy_lab, values=(\"#A2A4A2\", \"#008080\"))\n",
    "        + scale_fill_manual(name=dummy_lab, values=(\"#A2A4A2\", \"#008080\"))\n",
    "        + ylab(\"Mean Price\")\n",
    "        + xlab(factor_lab)\n",
    "        + theme_bw()\n",
    "        + theme(\n",
    "            panel_grid_major=element_blank(),\n",
    "            panel_grid_minor=element_blank(),\n",
    "            panel_border=element_blank(),\n",
    "            axis_line=element_line(),\n",
    "            legend_position=\"top\",\n",
    "            legend_box=\"vertical\",\n",
    "            legend_text=element_text(size=8),\n",
    "            legend_title=element_text(size=8, face=\"bold\"),\n",
    "            figure_size=(8, 6)\n",
    "        )\n",
    "    )\n",
    "\n",
    "    return plot"
   ]
  },
  {
   "cell_type": "code",
   "execution_count": 84,
   "id": "afbe2947",
   "metadata": {},
   "outputs": [
    {
     "data": {
      "image/png": "[encoded data removed]",
      "text/plain": [
       "<Figure size 800x600 with 1 Axes>"
      ]
     },
     "metadata": {
      "image/png": {
       "height": 600,
       "width": 800
      }
     },
     "output_type": "display_data"
    },
    {
     "data": {
      "text/plain": [
       "<Figure Size: (800 x 600)>"
      ]
     },
     "execution_count": 84,
     "metadata": {},
     "output_type": "execute_result"
    }
   ],
   "source": [
    "interactions(clean_df,\"f_property_type\",\"d_kidfriendly\",\"Property Type\",\"Kid Friendly\")"
   ]
  },
  {
   "cell_type": "code",
   "execution_count": 85,
   "id": "8d6c641b",
   "metadata": {},
   "outputs": [
    {
     "data": {
      "image/png": "[encoded data removed]",
      "text/plain": [
       "<Figure size 800x600 with 1 Axes>"
      ]
     },
     "metadata": {
      "image/png": {
       "height": 600,
       "width": 800
      }
     },
     "output_type": "display_data"
    },
    {
     "data": {
      "text/plain": [
       "<Figure Size: (800 x 600)>"
      ]
     },
     "execution_count": 85,
     "metadata": {},
     "output_type": "execute_result"
    }
   ],
   "source": [
    "interactions(clean_df,\"f_property_type\",\"d_freeparking\",\"Property Type\",\"Free Parking\")"
   ]
  },
  {
   "cell_type": "code",
   "execution_count": 86,
   "id": "7e084490",
   "metadata": {},
   "outputs": [
    {
     "data": {
      "image/png": "[encoded data removed]",
      "text/plain": [
       "<Figure size 800x600 with 1 Axes>"
      ]
     },
     "metadata": {
      "image/png": {
       "height": 600,
       "width": 800
      }
     },
     "output_type": "display_data"
    },
    {
     "data": {
      "text/plain": [
       "<Figure Size: (800 x 600)>"
      ]
     },
     "execution_count": 86,
     "metadata": {},
     "output_type": "execute_result"
    }
   ],
   "source": [
    "interactions(clean_df,\"f_property_type\",\"d_windowview\",\"Property Type\",\"Nice Window View\")"
   ]
  },
  {
   "cell_type": "code",
   "execution_count": 87,
   "id": "1096e81f",
   "metadata": {},
   "outputs": [
    {
     "data": {
      "image/png": "[encoded data removed]",
      "text/plain": [
       "<Figure size 800x600 with 1 Axes>"
      ]
     },
     "metadata": {
      "image/png": {
       "height": 600,
       "width": 800
      }
     },
     "output_type": "display_data"
    },
    {
     "data": {
      "text/plain": [
       "<Figure Size: (800 x 600)>"
      ]
     },
     "execution_count": 87,
     "metadata": {},
     "output_type": "execute_result"
    }
   ],
   "source": [
    "interactions(clean_df,\"f_property_type\",\"d_outdooramenities\",\"Property Type\",\"Outdoor Amenities\")"
   ]
  },
  {
   "cell_type": "code",
   "execution_count": 88,
   "id": "108a4c71",
   "metadata": {},
   "outputs": [
    {
     "data": {
      "image/png": "[encoded data removed]",
      "text/plain": [
       "<Figure size 800x600 with 1 Axes>"
      ]
     },
     "metadata": {
      "image/png": {
       "height": 600,
       "width": 800
      }
     },
     "output_type": "display_data"
    },
    {
     "data": {
      "text/plain": [
       "<Figure Size: (800 x 600)>"
      ]
     },
     "execution_count": 88,
     "metadata": {},
     "output_type": "execute_result"
    }
   ],
   "source": [
    "interactions(clean_df,\"f_property_type\",\"d_airconditioning\",\"Property Type\",\"Air Conditioning\")"
   ]
  },
  {
   "cell_type": "code",
   "execution_count": 89,
   "id": "949b81fe",
   "metadata": {},
   "outputs": [
    {
     "data": {
      "image/png": "[encoded data removed]",
      "text/plain": [
       "<Figure size 800x600 with 1 Axes>"
      ]
     },
     "metadata": {
      "image/png": {
       "height": 600,
       "width": 800
      }
     },
     "output_type": "display_data"
    },
    {
     "data": {
      "text/plain": [
       "<Figure Size: (800 x 600)>"
      ]
     },
     "execution_count": 89,
     "metadata": {},
     "output_type": "execute_result"
    }
   ],
   "source": [
    "interactions(clean_df,\"n_accommodates\",\"d_airconditioning\",\"Accommodates\",\"Air Conditioning\")"
   ]
  },
  {
   "cell_type": "markdown",
   "id": "861f63a7",
   "metadata": {},
   "source": [
    "# Modelling\n",
    "1. Random Forest\n",
    "2. LASSO \n",
    "3. OLS\n",
    "4. CART\n",
    "5. GBM"
   ]
  },
  {
   "cell_type": "markdown",
   "id": "d8bad335",
   "metadata": {},
   "source": [
    "<b>*Splitting our data into train and test data with a split of 70/30*<br>\n"
   ]
  },
  {
   "cell_type": "code",
   "execution_count": 90,
   "id": "49d43861",
   "metadata": {},
   "outputs": [
    {
     "data": {
      "text/plain": [
       "((8220, 63), (3523, 63))"
      ]
     },
     "execution_count": 90,
     "metadata": {},
     "output_type": "execute_result"
    }
   ],
   "source": [
    "data_train, data_holdout = train_test_split(clean_df, train_size=0.7, random_state=42)\n",
    "data_train.shape, data_holdout.shape"
   ]
  },
  {
   "cell_type": "markdown",
   "id": "98a857f7",
   "metadata": {},
   "source": [
    "## 1. Random Forest"
   ]
  },
  {
   "cell_type": "code",
   "execution_count": 91,
   "id": "bb283d45",
   "metadata": {},
   "outputs": [],
   "source": [
    "y, X = dmatrices(\"price ~ \" + \" + \".join(predictors), data_train)"
   ]
  },
  {
   "cell_type": "code",
   "execution_count": 92,
   "id": "d40658ca",
   "metadata": {},
   "outputs": [
    {
     "name": "stdout",
     "output_type": "stream",
     "text": [
      "The theoretical recommended number of variables: 13.19.\n"
     ]
    }
   ],
   "source": [
    "print('The theoretical recommended number of variables: {:.2f}.'.format(math.sqrt(len(X.design_info.column_names))))"
   ]
  },
  {
   "cell_type": "code",
   "execution_count": 93,
   "id": "fba75009",
   "metadata": {},
   "outputs": [],
   "source": [
    "rfr = RandomForestRegressor(random_state=20240210)"
   ]
  },
  {
   "cell_type": "code",
   "execution_count": 94,
   "id": "7bcdb6ed",
   "metadata": {},
   "outputs": [],
   "source": [
    "# for the max_features, I have given a range of 10-16 (13 +- 3)\n",
    "\n",
    "tune_grid = {\"max_features\": [10, 12, 14, 16], \"min_samples_leaf\": [5, 10, 15]}"
   ]
  },
  {
   "cell_type": "code",
   "execution_count": 95,
   "id": "1a5da405",
   "metadata": {},
   "outputs": [],
   "source": [
    "rf_random = GridSearchCV(\n",
    "    rfr,\n",
    "    tune_grid,\n",
    "    cv=5,\n",
    "    scoring=\"neg_root_mean_squared_error\",\n",
    "    verbose=3,\n",
    ")"
   ]
  },
  {
   "cell_type": "code",
   "execution_count": 96,
   "id": "c04f1f60",
   "metadata": {},
   "outputs": [
    {
     "name": "stdout",
     "output_type": "stream",
     "text": [
      "Fitting 5 folds for each of 12 candidates, totalling 60 fits\n",
      "[CV 1/5] END max_features=10, min_samples_leaf=5;, score=-40.873 total time=   0.8s\n",
      "[CV 2/5] END max_features=10, min_samples_leaf=5;, score=-41.499 total time=   0.8s\n",
      "[CV 3/5] END max_features=10, min_samples_leaf=5;, score=-39.384 total time=   0.8s\n",
      "[CV 4/5] END max_features=10, min_samples_leaf=5;, score=-40.522 total time=   1.0s\n",
      "[CV 5/5] END max_features=10, min_samples_leaf=5;, score=-40.620 total time=   0.9s\n",
      "[CV 1/5] END max_features=10, min_samples_leaf=10;, score=-41.556 total time=   0.7s\n",
      "[CV 2/5] END max_features=10, min_samples_leaf=10;, score=-42.150 total time=   0.7s\n",
      "[CV 3/5] END max_features=10, min_samples_leaf=10;, score=-40.120 total time=   0.7s\n",
      "[CV 4/5] END max_features=10, min_samples_leaf=10;, score=-41.149 total time=   0.6s\n",
      "[CV 5/5] END max_features=10, min_samples_leaf=10;, score=-41.316 total time=   0.6s\n",
      "[CV 1/5] END max_features=10, min_samples_leaf=15;, score=-41.994 total time=   0.6s\n",
      "[CV 2/5] END max_features=10, min_samples_leaf=15;, score=-42.760 total time=   0.5s\n",
      "[CV 3/5] END max_features=10, min_samples_leaf=15;, score=-40.452 total time=   0.4s\n",
      "[CV 4/5] END max_features=10, min_samples_leaf=15;, score=-41.511 total time=   0.5s\n",
      "[CV 5/5] END max_features=10, min_samples_leaf=15;, score=-41.795 total time=   0.4s\n",
      "[CV 1/5] END max_features=12, min_samples_leaf=5;, score=-40.438 total time=   0.8s\n",
      "[CV 2/5] END max_features=12, min_samples_leaf=5;, score=-40.900 total time=   0.8s\n",
      "[CV 3/5] END max_features=12, min_samples_leaf=5;, score=-38.963 total time=   0.9s\n",
      "[CV 4/5] END max_features=12, min_samples_leaf=5;, score=-40.251 total time=   1.0s\n",
      "[CV 5/5] END max_features=12, min_samples_leaf=5;, score=-40.016 total time=   1.0s\n",
      "[CV 1/5] END max_features=12, min_samples_leaf=10;, score=-41.183 total time=   0.8s\n",
      "[CV 2/5] END max_features=12, min_samples_leaf=10;, score=-41.716 total time=   0.6s\n",
      "[CV 3/5] END max_features=12, min_samples_leaf=10;, score=-39.705 total time=   0.6s\n",
      "[CV 4/5] END max_features=12, min_samples_leaf=10;, score=-40.860 total time=   0.6s\n",
      "[CV 5/5] END max_features=12, min_samples_leaf=10;, score=-40.903 total time=   0.6s\n",
      "[CV 1/5] END max_features=12, min_samples_leaf=15;, score=-41.654 total time=   0.6s\n",
      "[CV 2/5] END max_features=12, min_samples_leaf=15;, score=-42.160 total time=   0.6s\n",
      "[CV 3/5] END max_features=12, min_samples_leaf=15;, score=-40.130 total time=   0.6s\n",
      "[CV 4/5] END max_features=12, min_samples_leaf=15;, score=-41.181 total time=   0.7s\n",
      "[CV 5/5] END max_features=12, min_samples_leaf=15;, score=-41.278 total time=   0.6s\n",
      "[CV 1/5] END max_features=14, min_samples_leaf=5;, score=-40.085 total time=   1.1s\n",
      "[CV 2/5] END max_features=14, min_samples_leaf=5;, score=-40.566 total time=   1.0s\n",
      "[CV 3/5] END max_features=14, min_samples_leaf=5;, score=-38.756 total time=   0.9s\n",
      "[CV 4/5] END max_features=14, min_samples_leaf=5;, score=-40.028 total time=   0.9s\n",
      "[CV 5/5] END max_features=14, min_samples_leaf=5;, score=-39.804 total time=   1.0s\n",
      "[CV 1/5] END max_features=14, min_samples_leaf=10;, score=-40.836 total time=   0.7s\n",
      "[CV 2/5] END max_features=14, min_samples_leaf=10;, score=-41.361 total time=   0.7s\n",
      "[CV 3/5] END max_features=14, min_samples_leaf=10;, score=-39.405 total time=   0.7s\n",
      "[CV 4/5] END max_features=14, min_samples_leaf=10;, score=-40.556 total time=   0.7s\n",
      "[CV 5/5] END max_features=14, min_samples_leaf=10;, score=-40.628 total time=   0.8s\n",
      "[CV 1/5] END max_features=14, min_samples_leaf=15;, score=-41.322 total time=   0.7s\n",
      "[CV 2/5] END max_features=14, min_samples_leaf=15;, score=-41.868 total time=   0.6s\n",
      "[CV 3/5] END max_features=14, min_samples_leaf=15;, score=-39.809 total time=   0.6s\n",
      "[CV 4/5] END max_features=14, min_samples_leaf=15;, score=-40.995 total time=   0.6s\n",
      "[CV 5/5] END max_features=14, min_samples_leaf=15;, score=-41.053 total time=   0.7s\n",
      "[CV 1/5] END max_features=16, min_samples_leaf=5;, score=-39.929 total time=   1.1s\n",
      "[CV 2/5] END max_features=16, min_samples_leaf=5;, score=-40.359 total time=   1.0s\n",
      "[CV 3/5] END max_features=16, min_samples_leaf=5;, score=-38.362 total time=   1.0s\n",
      "[CV 4/5] END max_features=16, min_samples_leaf=5;, score=-39.746 total time=   1.1s\n",
      "[CV 5/5] END max_features=16, min_samples_leaf=5;, score=-39.675 total time=   1.2s\n",
      "[CV 1/5] END max_features=16, min_samples_leaf=10;, score=-40.631 total time=   0.9s\n",
      "[CV 2/5] END max_features=16, min_samples_leaf=10;, score=-41.135 total time=   0.8s\n",
      "[CV 3/5] END max_features=16, min_samples_leaf=10;, score=-39.202 total time=   0.8s\n",
      "[CV 4/5] END max_features=16, min_samples_leaf=10;, score=-40.421 total time=   0.8s\n",
      "[CV 5/5] END max_features=16, min_samples_leaf=10;, score=-40.444 total time=   0.8s\n",
      "[CV 1/5] END max_features=16, min_samples_leaf=15;, score=-41.084 total time=   0.7s\n",
      "[CV 2/5] END max_features=16, min_samples_leaf=15;, score=-41.531 total time=   0.8s\n",
      "[CV 3/5] END max_features=16, min_samples_leaf=15;, score=-39.614 total time=   0.7s\n",
      "[CV 4/5] END max_features=16, min_samples_leaf=15;, score=-40.839 total time=   0.7s\n",
      "[CV 5/5] END max_features=16, min_samples_leaf=15;, score=-40.765 total time=   0.7s\n",
      "CPU times: total: 50.1 s\n",
      "Wall time: 53.3 s\n"
     ]
    }
   ],
   "source": [
    "%%time\n",
    "rf_model = rf_random.fit(X, y.ravel())"
   ]
  },
  {
   "cell_type": "code",
   "execution_count": 97,
   "id": "f765204b",
   "metadata": {},
   "outputs": [],
   "source": [
    "df_rf_model_cv_results = pd.DataFrame(rf_model.cv_results_)[[\n",
    "    'param_max_features', 'param_min_samples_leaf', 'mean_test_score']]"
   ]
  },
  {
   "cell_type": "code",
   "execution_count": 98,
   "id": "7d5f1b7f",
   "metadata": {},
   "outputs": [],
   "source": [
    "df_rf_model_cv_results.columns = ['max features', 'min node size', 'RMSE']"
   ]
  },
  {
   "cell_type": "code",
   "execution_count": 99,
   "id": "77888da2",
   "metadata": {},
   "outputs": [
    {
     "data": {
      "text/html": [
       "<div>\n",
       "<style scoped>\n",
       "    .dataframe tbody tr th:only-of-type {\n",
       "        vertical-align: middle;\n",
       "    }\n",
       "\n",
       "    .dataframe tbody tr th {\n",
       "        vertical-align: top;\n",
       "    }\n",
       "\n",
       "    .dataframe thead th {\n",
       "        text-align: right;\n",
       "    }\n",
       "</style>\n",
       "<table border=\"1\" class=\"dataframe\">\n",
       "  <thead>\n",
       "    <tr style=\"text-align: right;\">\n",
       "      <th></th>\n",
       "      <th>max features</th>\n",
       "      <th>min node size</th>\n",
       "      <th>RMSE</th>\n",
       "    </tr>\n",
       "  </thead>\n",
       "  <tbody>\n",
       "    <tr>\n",
       "      <th>0</th>\n",
       "      <td>10</td>\n",
       "      <td>5</td>\n",
       "      <td>-40.579618</td>\n",
       "    </tr>\n",
       "    <tr>\n",
       "      <th>1</th>\n",
       "      <td>10</td>\n",
       "      <td>10</td>\n",
       "      <td>-41.258527</td>\n",
       "    </tr>\n",
       "    <tr>\n",
       "      <th>2</th>\n",
       "      <td>10</td>\n",
       "      <td>15</td>\n",
       "      <td>-41.702295</td>\n",
       "    </tr>\n",
       "    <tr>\n",
       "      <th>3</th>\n",
       "      <td>12</td>\n",
       "      <td>5</td>\n",
       "      <td>-40.113479</td>\n",
       "    </tr>\n",
       "    <tr>\n",
       "      <th>4</th>\n",
       "      <td>12</td>\n",
       "      <td>10</td>\n",
       "      <td>-40.873274</td>\n",
       "    </tr>\n",
       "    <tr>\n",
       "      <th>5</th>\n",
       "      <td>12</td>\n",
       "      <td>15</td>\n",
       "      <td>-41.280858</td>\n",
       "    </tr>\n",
       "    <tr>\n",
       "      <th>6</th>\n",
       "      <td>14</td>\n",
       "      <td>5</td>\n",
       "      <td>-39.847604</td>\n",
       "    </tr>\n",
       "    <tr>\n",
       "      <th>7</th>\n",
       "      <td>14</td>\n",
       "      <td>10</td>\n",
       "      <td>-40.557287</td>\n",
       "    </tr>\n",
       "    <tr>\n",
       "      <th>8</th>\n",
       "      <td>14</td>\n",
       "      <td>15</td>\n",
       "      <td>-41.009283</td>\n",
       "    </tr>\n",
       "    <tr>\n",
       "      <th>9</th>\n",
       "      <td>16</td>\n",
       "      <td>5</td>\n",
       "      <td>-39.614088</td>\n",
       "    </tr>\n",
       "    <tr>\n",
       "      <th>10</th>\n",
       "      <td>16</td>\n",
       "      <td>10</td>\n",
       "      <td>-40.366546</td>\n",
       "    </tr>\n",
       "    <tr>\n",
       "      <th>11</th>\n",
       "      <td>16</td>\n",
       "      <td>15</td>\n",
       "      <td>-40.766431</td>\n",
       "    </tr>\n",
       "  </tbody>\n",
       "</table>\n",
       "</div>"
      ],
      "text/plain": [
       "   max features min node size       RMSE\n",
       "0            10             5 -40.579618\n",
       "1            10            10 -41.258527\n",
       "2            10            15 -41.702295\n",
       "3            12             5 -40.113479\n",
       "4            12            10 -40.873274\n",
       "5            12            15 -41.280858\n",
       "6            14             5 -39.847604\n",
       "7            14            10 -40.557287\n",
       "8            14            15 -41.009283\n",
       "9            16             5 -39.614088\n",
       "10           16            10 -40.366546\n",
       "11           16            15 -40.766431"
      ]
     },
     "execution_count": 99,
     "metadata": {},
     "output_type": "execute_result"
    }
   ],
   "source": [
    "df_rf_model_cv_results"
   ]
  },
  {
   "cell_type": "code",
   "execution_count": 100,
   "id": "1bd024f0",
   "metadata": {},
   "outputs": [
    {
     "data": {
      "text/html": [
       "<div>\n",
       "<style scoped>\n",
       "    .dataframe tbody tr th:only-of-type {\n",
       "        vertical-align: middle;\n",
       "    }\n",
       "\n",
       "    .dataframe tbody tr th {\n",
       "        vertical-align: top;\n",
       "    }\n",
       "\n",
       "    .dataframe thead th {\n",
       "        text-align: right;\n",
       "    }\n",
       "</style>\n",
       "<table border=\"1\" class=\"dataframe\">\n",
       "  <thead>\n",
       "    <tr style=\"text-align: right;\">\n",
       "      <th>min node size</th>\n",
       "      <th>5</th>\n",
       "      <th>10</th>\n",
       "      <th>15</th>\n",
       "    </tr>\n",
       "    <tr>\n",
       "      <th>max features</th>\n",
       "      <th></th>\n",
       "      <th></th>\n",
       "      <th></th>\n",
       "    </tr>\n",
       "  </thead>\n",
       "  <tbody>\n",
       "    <tr>\n",
       "      <th>10</th>\n",
       "      <td>40.58</td>\n",
       "      <td>41.26</td>\n",
       "      <td>41.70</td>\n",
       "    </tr>\n",
       "    <tr>\n",
       "      <th>12</th>\n",
       "      <td>40.11</td>\n",
       "      <td>40.87</td>\n",
       "      <td>41.28</td>\n",
       "    </tr>\n",
       "    <tr>\n",
       "      <th>14</th>\n",
       "      <td>39.85</td>\n",
       "      <td>40.56</td>\n",
       "      <td>41.01</td>\n",
       "    </tr>\n",
       "    <tr>\n",
       "      <th>16</th>\n",
       "      <td>39.61</td>\n",
       "      <td>40.37</td>\n",
       "      <td>40.77</td>\n",
       "    </tr>\n",
       "  </tbody>\n",
       "</table>\n",
       "</div>"
      ],
      "text/plain": [
       "min node size     5      10     15\n",
       "max features                      \n",
       "10             40.58  41.26  41.70\n",
       "12             40.11  40.87  41.28\n",
       "14             39.85  40.56  41.01\n",
       "16             39.61  40.37  40.77"
      ]
     },
     "execution_count": 100,
     "metadata": {},
     "output_type": "execute_result"
    }
   ],
   "source": [
    "df_rf_model_cv_results.pivot(\n",
    "    index = 'max features', \n",
    "    columns = 'min node size', \n",
    "    values = 'RMSE').round(2)*-1"
   ]
  },
  {
   "cell_type": "code",
   "execution_count": 101,
   "id": "db783b13",
   "metadata": {},
   "outputs": [
    {
     "data": {
      "text/plain": [
       "39.614"
      ]
     },
     "execution_count": 101,
     "metadata": {},
     "output_type": "execute_result"
    }
   ],
   "source": [
    "rf_rmse = rf_model.best_score_*-1\n",
    "rf_rmse.round(3)"
   ]
  },
  {
   "cell_type": "code",
   "execution_count": 102,
   "id": "1841ce3b",
   "metadata": {},
   "outputs": [
    {
     "data": {
      "text/plain": [
       "{'max_features': 16, 'min_samples_leaf': 5}"
      ]
     },
     "execution_count": 102,
     "metadata": {},
     "output_type": "execute_result"
    }
   ],
   "source": [
    "rf_model.best_params_"
   ]
  },
  {
   "cell_type": "code",
   "execution_count": 103,
   "id": "263b63fa",
   "metadata": {},
   "outputs": [
    {
     "data": {
      "text/html": [
       "<style>#sk-container-id-2 {color: black;}#sk-container-id-2 pre{padding: 0;}#sk-container-id-2 div.sk-toggleable {background-color: white;}#sk-container-id-2 label.sk-toggleable__label {cursor: pointer;display: block;width: 100%;margin-bottom: 0;padding: 0.3em;box-sizing: border-box;text-align: center;}#sk-container-id-2 label.sk-toggleable__label-arrow:before {content: \"▸\";float: left;margin-right: 0.25em;color: #696969;}#sk-container-id-2 label.sk-toggleable__label-arrow:hover:before {color: black;}#sk-container-id-2 div.sk-estimator:hover label.sk-toggleable__label-arrow:before {color: black;}#sk-container-id-2 div.sk-toggleable__content {max-height: 0;max-width: 0;overflow: hidden;text-align: left;background-color: #f0f8ff;}#sk-container-id-2 div.sk-toggleable__content pre {margin: 0.2em;color: black;border-radius: 0.25em;background-color: #f0f8ff;}#sk-container-id-2 input.sk-toggleable__control:checked~div.sk-toggleable__content {max-height: 200px;max-width: 100%;overflow: auto;}#sk-container-id-2 input.sk-toggleable__control:checked~label.sk-toggleable__label-arrow:before {content: \"▾\";}#sk-container-id-2 div.sk-estimator input.sk-toggleable__control:checked~label.sk-toggleable__label {background-color: #d4ebff;}#sk-container-id-2 div.sk-label input.sk-toggleable__control:checked~label.sk-toggleable__label {background-color: #d4ebff;}#sk-container-id-2 input.sk-hidden--visually {border: 0;clip: rect(1px 1px 1px 1px);clip: rect(1px, 1px, 1px, 1px);height: 1px;margin: -1px;overflow: hidden;padding: 0;position: absolute;width: 1px;}#sk-container-id-2 div.sk-estimator {font-family: monospace;background-color: #f0f8ff;border: 1px dotted black;border-radius: 0.25em;box-sizing: border-box;margin-bottom: 0.5em;}#sk-container-id-2 div.sk-estimator:hover {background-color: #d4ebff;}#sk-container-id-2 div.sk-parallel-item::after {content: \"\";width: 100%;border-bottom: 1px solid gray;flex-grow: 1;}#sk-container-id-2 div.sk-label:hover label.sk-toggleable__label {background-color: #d4ebff;}#sk-container-id-2 div.sk-serial::before {content: \"\";position: absolute;border-left: 1px solid gray;box-sizing: border-box;top: 0;bottom: 0;left: 50%;z-index: 0;}#sk-container-id-2 div.sk-serial {display: flex;flex-direction: column;align-items: center;background-color: white;padding-right: 0.2em;padding-left: 0.2em;position: relative;}#sk-container-id-2 div.sk-item {position: relative;z-index: 1;}#sk-container-id-2 div.sk-parallel {display: flex;align-items: stretch;justify-content: center;background-color: white;position: relative;}#sk-container-id-2 div.sk-item::before, #sk-container-id-2 div.sk-parallel-item::before {content: \"\";position: absolute;border-left: 1px solid gray;box-sizing: border-box;top: 0;bottom: 0;left: 50%;z-index: -1;}#sk-container-id-2 div.sk-parallel-item {display: flex;flex-direction: column;z-index: 1;position: relative;background-color: white;}#sk-container-id-2 div.sk-parallel-item:first-child::after {align-self: flex-end;width: 50%;}#sk-container-id-2 div.sk-parallel-item:last-child::after {align-self: flex-start;width: 50%;}#sk-container-id-2 div.sk-parallel-item:only-child::after {width: 0;}#sk-container-id-2 div.sk-dashed-wrapped {border: 1px dashed gray;margin: 0 0.4em 0.5em 0.4em;box-sizing: border-box;padding-bottom: 0.4em;background-color: white;}#sk-container-id-2 div.sk-label label {font-family: monospace;font-weight: bold;display: inline-block;line-height: 1.2em;}#sk-container-id-2 div.sk-label-container {text-align: center;}#sk-container-id-2 div.sk-container {/* jupyter's `normalize.less` sets `[hidden] { display: none; }` but bootstrap.min.css set `[hidden] { display: none !important; }` so we also need the `!important` here to be able to override the default hidden behavior on the sphinx rendered scikit-learn.org. See: https://github.com/scikit-learn/scikit-learn/issues/21755 */display: inline-block !important;position: relative;}#sk-container-id-2 div.sk-text-repr-fallback {display: none;}</style><div id=\"sk-container-id-2\" class=\"sk-top-container\"><div class=\"sk-text-repr-fallback\"><pre>RandomForestRegressor(max_features=16, min_samples_leaf=5,\n",
       "                      random_state=20240210)</pre><b>In a Jupyter environment, please rerun this cell to show the HTML representation or trust the notebook. <br />On GitHub, the HTML representation is unable to render, please try loading this page with nbviewer.org.</b></div><div class=\"sk-container\" hidden><div class=\"sk-item\"><div class=\"sk-estimator sk-toggleable\"><input class=\"sk-toggleable__control sk-hidden--visually\" id=\"sk-estimator-id-2\" type=\"checkbox\" checked><label for=\"sk-estimator-id-2\" class=\"sk-toggleable__label sk-toggleable__label-arrow\">RandomForestRegressor</label><div class=\"sk-toggleable__content\"><pre>RandomForestRegressor(max_features=16, min_samples_leaf=5,\n",
       "                      random_state=20240210)</pre></div></div></div></div></div>"
      ],
      "text/plain": [
       "RandomForestRegressor(max_features=16, min_samples_leaf=5,\n",
       "                      random_state=20240210)"
      ]
     },
     "execution_count": 103,
     "metadata": {},
     "output_type": "execute_result"
    }
   ],
   "source": [
    "rf_model.best_estimator_"
   ]
  }
 ],
 "metadata": {
  "kernelspec": {
   "display_name": "Python 3 (ipykernel)",
   "language": "python",
   "name": "python3"
  },
  "language_info": {
   "codemirror_mode": {
    "name": "ipython",
    "version": 3
   },
   "file_extension": ".py",
   "mimetype": "text/x-python",
   "name": "python",
   "nbconvert_exporter": "python",
   "pygments_lexer": "ipython3",
   "version": "3.11.4"
  }
 },
 "nbformat": 4,
 "nbformat_minor": 5
}
